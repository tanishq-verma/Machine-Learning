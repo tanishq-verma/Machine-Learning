{
 "cells": [
  {
   "cell_type": "code",
   "execution_count": 1,
   "id": "f9d1da2d-d03a-4716-8f51-ffbf3b934450",
   "metadata": {},
   "outputs": [],
   "source": [
    "import pandas as pd\n",
    "import re\n",
    "import json\n"
   ]
  },
  {
   "cell_type": "code",
   "execution_count": 2,
   "id": "7536a721-651c-4c0f-bb7d-280e67745f13",
   "metadata": {},
   "outputs": [],
   "source": [
    "df = pd.read_csv('combined_names_newest.json',on_bad_lines='skip')\n",
    "\n",
    "\n"
   ]
  },
  {
   "cell_type": "code",
   "execution_count": 3,
   "id": "2e066193-4b2a-4b77-a704-51a158c1b63d",
   "metadata": {},
   "outputs": [],
   "source": [
    "df = df.head(100)"
   ]
  },
  {
   "cell_type": "code",
   "execution_count": 4,
   "id": "6996446a-4801-4d39-ab53-0de202919b12",
   "metadata": {},
   "outputs": [
    {
     "data": {
      "text/html": [
       "<div>\n",
       "<style scoped>\n",
       "    .dataframe tbody tr th:only-of-type {\n",
       "        vertical-align: middle;\n",
       "    }\n",
       "\n",
       "    .dataframe tbody tr th {\n",
       "        vertical-align: top;\n",
       "    }\n",
       "\n",
       "    .dataframe thead th {\n",
       "        text-align: right;\n",
       "    }\n",
       "</style>\n",
       "<table border=\"1\" class=\"dataframe\">\n",
       "  <thead>\n",
       "    <tr style=\"text-align: right;\">\n",
       "      <th></th>\n",
       "      <th>id</th>\n",
       "      <th>features</th>\n",
       "      <th>labels</th>\n",
       "    </tr>\n",
       "  </thead>\n",
       "  <tbody>\n",
       "    <tr>\n",
       "      <th>0</th>\n",
       "      <td>s6avtdg0pl_QbjGMOcU1</td>\n",
       "      <td>{'core_lemma_text': 'i Delivery amount return ...</td>\n",
       "      <td>{'provision_type_ids': ['CSA Delivery Amount, ...</td>\n",
       "    </tr>\n",
       "    <tr>\n",
       "      <th>1</th>\n",
       "      <td>r9XGSJOgfhprIZxUQsDl</td>\n",
       "      <td>{'core_lemma_text': 'aaa1 s&amp;p aa3p1 Moody', 'c...</td>\n",
       "      <td>{'provision_type_ids': ['CSA Delivery Amount, ...</td>\n",
       "    </tr>\n",
       "    <tr>\n",
       "      <th>2</th>\n",
       "      <td>s1sSi_rNLRo2Oz1flFxN</td>\n",
       "      <td>{'core_lemma_text': 'maturity eight year 12', ...</td>\n",
       "      <td>{'provision_type_ids': ['CSA Delivery Amount, ...</td>\n",
       "    </tr>\n",
       "    <tr>\n",
       "      <th>3</th>\n",
       "      <td>w8jhrxCaHdDmOVm4Mc0H</td>\n",
       "      <td>{'core_lemma_text': 'equivalent substitute', '...</td>\n",
       "      <td>{'provision_type_ids': ['CSA Delivery Amount, ...</td>\n",
       "    </tr>\n",
       "    <tr>\n",
       "      <th>4</th>\n",
       "      <td>u6s-yiFWdErIWpt1tFwB</td>\n",
       "      <td>{'core_lemma_text': 'i Resolution Time mean 2 ...</td>\n",
       "      <td>{'provision_type_ids': ['CSA Delivery Amount, ...</td>\n",
       "    </tr>\n",
       "    <tr>\n",
       "      <th>5</th>\n",
       "      <td>p8jWkswSpnrZXqQ0TOgI</td>\n",
       "      <td>{'core_lemma_text': 'Royal Bank Canada', 'comp...</td>\n",
       "      <td>{'provision_type_ids': ['CSA Delivery Amount, ...</td>\n",
       "    </tr>\n",
       "    <tr>\n",
       "      <th>6</th>\n",
       "      <td>d0wEhER-7V97FqaN0yol</td>\n",
       "      <td>{'core_lemma_text': 'valuation date', 'compoun...</td>\n",
       "      <td>{'provision_type_ids': ['CSA Delivery Amount, ...</td>\n",
       "    </tr>\n",
       "    <tr>\n",
       "      <th>7</th>\n",
       "      <td>c2H9vkb_cm5rLBCwjdbH</td>\n",
       "      <td>{'core_lemma_text': 'c negotiable debt obligat...</td>\n",
       "      <td>{'provision_type_ids': ['CSA Delivery Amount, ...</td>\n",
       "    </tr>\n",
       "    <tr>\n",
       "      <th>8</th>\n",
       "      <td>x95RHP1z2lDrv5nBAFhD</td>\n",
       "      <td>{'core_lemma_text': 'Finland minimum rating', ...</td>\n",
       "      <td>{'provision_type_ids': ['CSA Delivery Amount, ...</td>\n",
       "    </tr>\n",
       "    <tr>\n",
       "      <th>9</th>\n",
       "      <td>q9tWIklz6v4TkWQiQ-N6</td>\n",
       "      <td>{'core_lemma_text': 'time time', 'compounded_c...</td>\n",
       "      <td>{'provision_type_ids': ['CSA Delivery Amount, ...</td>\n",
       "    </tr>\n",
       "  </tbody>\n",
       "</table>\n",
       "</div>"
      ],
      "text/plain": [
       "                     id                                           features  \\\n",
       "0  s6avtdg0pl_QbjGMOcU1  {'core_lemma_text': 'i Delivery amount return ...   \n",
       "1  r9XGSJOgfhprIZxUQsDl  {'core_lemma_text': 'aaa1 s&p aa3p1 Moody', 'c...   \n",
       "2  s1sSi_rNLRo2Oz1flFxN  {'core_lemma_text': 'maturity eight year 12', ...   \n",
       "3  w8jhrxCaHdDmOVm4Mc0H  {'core_lemma_text': 'equivalent substitute', '...   \n",
       "4  u6s-yiFWdErIWpt1tFwB  {'core_lemma_text': 'i Resolution Time mean 2 ...   \n",
       "5  p8jWkswSpnrZXqQ0TOgI  {'core_lemma_text': 'Royal Bank Canada', 'comp...   \n",
       "6  d0wEhER-7V97FqaN0yol  {'core_lemma_text': 'valuation date', 'compoun...   \n",
       "7  c2H9vkb_cm5rLBCwjdbH  {'core_lemma_text': 'c negotiable debt obligat...   \n",
       "8  x95RHP1z2lDrv5nBAFhD  {'core_lemma_text': 'Finland minimum rating', ...   \n",
       "9  q9tWIklz6v4TkWQiQ-N6  {'core_lemma_text': 'time time', 'compounded_c...   \n",
       "\n",
       "                                              labels  \n",
       "0  {'provision_type_ids': ['CSA Delivery Amount, ...  \n",
       "1  {'provision_type_ids': ['CSA Delivery Amount, ...  \n",
       "2  {'provision_type_ids': ['CSA Delivery Amount, ...  \n",
       "3  {'provision_type_ids': ['CSA Delivery Amount, ...  \n",
       "4  {'provision_type_ids': ['CSA Delivery Amount, ...  \n",
       "5  {'provision_type_ids': ['CSA Delivery Amount, ...  \n",
       "6  {'provision_type_ids': ['CSA Delivery Amount, ...  \n",
       "7  {'provision_type_ids': ['CSA Delivery Amount, ...  \n",
       "8  {'provision_type_ids': ['CSA Delivery Amount, ...  \n",
       "9  {'provision_type_ids': ['CSA Delivery Amount, ...  "
      ]
     },
     "execution_count": 4,
     "metadata": {},
     "output_type": "execute_result"
    }
   ],
   "source": [
    "df.head(10)"
   ]
  },
  {
   "cell_type": "code",
   "execution_count": 5,
   "id": "27a9ab49-8853-4500-9c7b-96127d63f023",
   "metadata": {},
   "outputs": [
    {
     "name": "stdout",
     "output_type": "stream",
     "text": [
      "<class 'pandas.core.frame.DataFrame'>\n",
      "RangeIndex: 100 entries, 0 to 99\n",
      "Data columns (total 3 columns):\n",
      " #   Column    Non-Null Count  Dtype \n",
      "---  ------    --------------  ----- \n",
      " 0   id        100 non-null    object\n",
      " 1   features  100 non-null    object\n",
      " 2   labels    100 non-null    object\n",
      "dtypes: object(3)\n",
      "memory usage: 2.5+ KB\n"
     ]
    }
   ],
   "source": [
    "df.info()"
   ]
  },
  {
   "cell_type": "code",
   "execution_count": 18,
   "id": "05ff0c2b-f80c-48d8-aba6-6daca3eeed9f",
   "metadata": {},
   "outputs": [],
   "source": [
    "df['features'] = df['features'].astype('str')\n"
   ]
  },
  {
   "cell_type": "code",
   "execution_count": null,
   "id": "766af9e2-3789-4def-91ac-c0114b7bf1c1",
   "metadata": {},
   "outputs": [],
   "source": []
  },
  {
   "cell_type": "code",
   "execution_count": 19,
   "id": "eca569b9-f859-415e-82ce-b12cb6fb3e78",
   "metadata": {},
   "outputs": [
    {
     "name": "stdout",
     "output_type": "stream",
     "text": [
      "<class 'pandas.core.frame.DataFrame'>\n",
      "RangeIndex: 100 entries, 0 to 99\n",
      "Data columns (total 3 columns):\n",
      " #   Column    Non-Null Count  Dtype \n",
      "---  ------    --------------  ----- \n",
      " 0   id        100 non-null    object\n",
      " 1   features  100 non-null    object\n",
      " 2   labels    100 non-null    object\n",
      "dtypes: object(3)\n",
      "memory usage: 2.5+ KB\n"
     ]
    }
   ],
   "source": [
    "df.info()"
   ]
  },
  {
   "cell_type": "code",
   "execution_count": 7,
   "id": "cbaee6fe-609e-4474-8bac-3b59ff47da00",
   "metadata": {
    "scrolled": true,
    "tags": []
   },
   "outputs": [
    {
     "name": "stdout",
     "output_type": "stream",
     "text": [
      "{'core_lemma_text': 'i Delivery amount return amount credit support amount', 'compounded_core_lemma_text': 'i Deliveryamount returnamount creditsupportamount'}\n",
      "{'core_lemma_text': 'aaa1 s&p aa3p1 Moody', 'compounded_core_lemma_text': 'aaa1 s&p aa3p1 Moody'}\n",
      "{'core_lemma_text': 'maturity eight year 12', 'compounded_core_lemma_text': 'maturity eight year 12'}\n",
      "{'core_lemma_text': 'equivalent substitute', 'compounded_core_lemma_text': 'equivalent substitute'}\n",
      "{'core_lemma_text': 'i Resolution Time mean 2 p.m. London time local Business Day follow date notice give give rise dispute paragraph 4', 'compounded_core_lemma_text': 'i ResolutionTime mean 2 p.m. Londontime local BusinessDay follow date notice give give rise dispute paragraph 4'}\n",
      "{'core_lemma_text': 'Royal Bank Canada', 'compounded_core_lemma_text': 'RoyalBank Canada'}\n",
      "{'core_lemma_text': 'valuation date', 'compounded_core_lemma_text': 'valuationdate'}\n",
      "{'core_lemma_text': 'c negotiable debt obligation issue x 92 government United', 'compounded_core_lemma_text': 'c negotiable debtobligation issue x 92 government United'}\n",
      "{'core_lemma_text': 'Finland minimum rating', 'compounded_core_lemma_text': 'Finland minimum rating'}\n",
      "{'core_lemma_text': 'time time', 'compounded_core_lemma_text': 'time time'}\n",
      "{'core_lemma_text': 'close business place location valuation agent valuation date date calculation applicable', 'compounded_core_lemma_text': 'close business place location valuationagent valuationdate date calculation applicable'}\n",
      "{'core_lemma_text': 'x close business local Business Day immediately precede valuation date date calculation applicable', 'compounded_core_lemma_text': 'x close business local BusinessDay immediately precede valuationdate date calculation applicable'}\n",
      "{'core_lemma_text': 'd exchange', 'compounded_core_lemma_text': 'd exchange'}\n",
      "{'core_lemma_text': 'attn. collateral management', 'compounded_core_lemma_text': 'attn. collateralmanagement'}\n",
      "{'core_lemma_text': 'Finland minimum rating', 'compounded_core_lemma_text': 'Finland minimum rating'}\n",
      "{'core_lemma_text': 'aaa1 s&p aa3p1 Moody', 'compounded_core_lemma_text': 'aaa1 s&p aa3p1 Moody'}\n",
      "{'core_lemma_text': 'c valuation timing', 'compounded_core_lemma_text': 'c valuation timing'}\n",
      "{'core_lemma_text': 'party a', 'compounded_core_lemma_text': 'partya'}\n",
      "{'core_lemma_text': '2nd floor South Tower', 'compounded_core_lemma_text': '2nd floor SouthTower'}\n",
      "{'core_lemma_text': '', 'compounded_core_lemma_text': ''}\n",
      "{'core_lemma_text': 'a negotiable debt obligation issue x 96 government United', 'compounded_core_lemma_text': 'a negotiable debtobligation issue x 96 government United'}\n",
      "{'core_lemma_text': 'Agency have remain', 'compounded_core_lemma_text': 'Agency have remain'}\n",
      "{'core_lemma_text': 'threshold mean respect party b Zero', 'compounded_core_lemma_text': 'threshold mean respect partyb Zero'}\n",
      "{'core_lemma_text': 'minimum transfer amount mean respect party b EUR', 'compounded_core_lemma_text': 'minimum transferamount mean respect partyb EUR'}\n",
      "{'core_lemma_text': 'attention Middle office collateral management', 'compounded_core_lemma_text': 'attention Middleoffice collateralmanagement'}\n",
      "{'core_lemma_text': 'adaptivelending', 'compounded_core_lemma_text': 'adaptivelending'}\n",
      "{'core_lemma_text': 'adaptive Lane 2010', 'compounded_core_lemma_text': 'adaptive Lane 2010'}\n",
      "{'core_lemma_text': '', 'compounded_core_lemma_text': ''}\n",
      "{'core_lemma_text': '', 'compounded_core_lemma_text': ''}\n",
      "{'core_lemma_text': 'c credit support amount have meaning specify paragraph 10', 'compounded_core_lemma_text': 'c credit supportamount have meaning specify paragraph 10'}\n",
      "{'core_lemma_text': 'b negotiable debt obligation issue x 94 government United', 'compounded_core_lemma_text': 'b negotiable debtobligation issue x 94 government United'}\n",
      "{'core_lemma_text': 'year valuation date', 'compounded_core_lemma_text': 'year valuationdate'}\n",
      "{'core_lemma_text': 'iii valuation time mean', 'compounded_core_lemma_text': 'iii valuationtime mean'}\n",
      "{'core_lemma_text': 'ii Exchange date have meaning specify paragraph 3cii', 'compounded_core_lemma_text': 'ii Exchangedate have meaning specify paragraph 3cii'}\n",
      "{'core_lemma_text': 'credit support equivalent credit support case calculate follow', 'compounded_core_lemma_text': 'creditsupport equivalent creditsupport case calculate follow'}\n",
      "{'core_lemma_text': 'Royal Bank Plaza', 'compounded_core_lemma_text': 'RoyalBankPlaza'}\n",
      "{'core_lemma_text': 'telephone 416 842-4529 842-4729', 'compounded_core_lemma_text': 'telephone 416 842-4529 842-4729'}\n",
      "{'core_lemma_text': 'demand specification notice party b annex make', 'compounded_core_lemma_text': 'demand specification notice partyb annex make'}\n",
      "{'core_lemma_text': 'Tel. no. +45 33 11 15 12', 'compounded_core_lemma_text': 'Tel. no. +45 33 11 15 12'}\n",
      "{'core_lemma_text': 'ii local Business day paragraph 10 amend follow', 'compounded_core_lemma_text': 'ii local Businessday paragraph 10 amend follow'}\n",
      "{'core_lemma_text': '', 'compounded_core_lemma_text': ''}\n",
      "{'core_lemma_text': 'Finland minimum rating', 'compounded_core_lemma_text': 'Finland minimum rating'}\n",
      "{'core_lemma_text': 'maturity 12 year 20 year', 'compounded_core_lemma_text': 'maturity 12 year 20 year'}\n",
      "{'core_lemma_text': 'f other eligible credit support x x tba agree party', 'compounded_core_lemma_text': 'f other eligible creditsupport x xtba agree party'}\n",
      "{'core_lemma_text': 'provide such security quote primary exchange dealing such security less three local business day prior valuation date further provide purpose paragraph 6 valuation percentage item eligible credit support 100', 'compounded_core_lemma_text': 'provide such security quote primary exchange dealing such security less three local businessday prior valuationdate further provide purpose paragraph 6 valuationpercentage item eligible creditsupport 100'}\n",
      "{'core_lemma_text': 'notwithstand provision paragraph 11biiic when credit support amount respect transferor valuation date zero then purpose return amount such transferor minimum transfer amount respect transferee zero', 'compounded_core_lemma_text': 'notwithstand provision paragraph 11biiic when creditsupportamount respect transferor valuationdate zero then purpose returnamount such transferor minimum transferamount respect transferee zero'}\n",
      "{'core_lemma_text': 'Canada m5j 2W7', 'compounded_core_lemma_text': 'Canadam5j 2W7'}\n",
      "{'core_lemma_text': 'b return amount have meaning specify paragraph 2b', 'compounded_core_lemma_text': 'b returnamount have meaning specify paragraph 2b'}\n",
      "{'core_lemma_text': 'ii eligible credit support follow item qualify eligible credit support party specify', 'compounded_core_lemma_text': 'ii eligible creditsupport follow item qualify eligible creditsupport party specify'}\n",
      "{'core_lemma_text': 'Agency have remain', 'compounded_core_lemma_text': 'Agency have remain'}\n",
      "{'core_lemma_text': 'provide event default termination event occur respect party minimum transfer amount such party reduce zero immediately occurrence such event', 'compounded_core_lemma_text': 'provide event default terminationevent occur respect party minimum transferamount such party reduce zero immediately occurrence such event'}\n",
      "{'core_lemma_text': 'a value cash face amount thereof multiply applicable valuation percentage', 'compounded_core_lemma_text': 'a value cash faceamount thereof multiply applicable valuationpercentage'}\n",
      "{'core_lemma_text': 'b credit support obligation', 'compounded_core_lemma_text': 'b creditsupportobligation'}\n",
      "{'core_lemma_text': 'party party b valuation', 'compounded_core_lemma_text': 'party partybvaluation'}\n",
      "{'core_lemma_text': 'maturity less four year', 'compounded_core_lemma_text': 'maturity less four year'}\n",
      "{'core_lemma_text': 'Agency have remain', 'compounded_core_lemma_text': 'Agency have remain'}\n",
      "{'core_lemma_text': 'Kingdom Germany France', 'compounded_core_lemma_text': 'Kingdom Germany France'}\n",
      "{'core_lemma_text': 'aaa1 s&p aa3p1 Moody', 'compounded_core_lemma_text': 'aaa1 s&p aa3p1 Moody'}\n",
      "{'core_lemma_text': 'Agency have remain', 'compounded_core_lemma_text': 'Agency have remain'}\n",
      "{'core_lemma_text': 'ii value purpose paragraph 4a4ic 4a4 value outstanding credit support balance transfer Eligible', 'compounded_core_lemma_text': 'ii value purpose paragraph 4a4ic 4a4 value outstanding creditsupportbalance transfer Eligible'}\n",
      "{'core_lemma_text': 'g other provision', 'compounded_core_lemma_text': 'g other provision'}\n",
      "{'core_lemma_text': 'demand specification notice party a annex make', 'compounded_core_lemma_text': 'demand specification notice partya annex make'}\n",
      "{'core_lemma_text': 'base currency mean EUR', 'compounded_core_lemma_text': 'basecurrency mean EUR'}\n",
      "{'core_lemma_text': 'ii eligible currency mean applicable', 'compounded_core_lemma_text': 'ii eligible currency mean applicable'}\n",
      "{'core_lemma_text': 'a Delivery amount have meaning specify paragraph 2a', 'compounded_core_lemma_text': 'a Deliveryamount have meaning specify paragraph 2a'}\n",
      "{'core_lemma_text': 'aaa1 s&p aa3p1 Moody', 'compounded_core_lemma_text': 'aaa1 s&p aa3p1 Moody'}\n",
      "{'core_lemma_text': 'Finland minimum rating', 'compounded_core_lemma_text': 'Finland minimum rating'}\n",
      "{'core_lemma_text': 'b threshold mean respect party a Zero', 'compounded_core_lemma_text': 'b threshold mean respect partya Zero'}\n",
      "{'core_lemma_text': 'b value security 1x arithmetic mean three mid-market quote quote such date three principal market maker such security choose Valuation agent y quotation available three principal market maker such date mid-market quote day next precede such date such quotation available 2 accrue interest such security extend transfer party pursuant applicable provision agreement include applicable price refer 1 clause such date multiply applicable valuation percentage', 'compounded_core_lemma_text': 'b value security 1x arithmetic mean three mid-market quote quote such date three principal marketmaker such security choose Valuationagent y quotation available three principal marketmaker such date mid-market quote day next precede such date such quotation available 2 accrue interest such security extend transfer partypursuant applicable provision agreement include applicable price refer 1 clause such date multiply applicable valuationpercentage'}\n",
      "{'core_lemma_text': 'such account party B notify party a time time', 'compounded_core_lemma_text': 'such account partyB notify partya time time'}\n",
      "{'core_lemma_text': 'email collateral@rbccm.com', 'compounded_core_lemma_text': 'email collateral@rbccm.com'}\n",
      "{'core_lemma_text': 'paragraph 11 election variable', 'compounded_core_lemma_text': 'paragraph 11 election variable'}\n",
      "{'core_lemma_text': 'equivalent substitute', 'compounded_core_lemma_text': 'equivalent substitute'}\n",
      "{'core_lemma_text': 'valuation agent mean party a', 'compounded_core_lemma_text': 'valuationagent mean partya'}\n",
      "{'core_lemma_text': 'ii valuation date mean local Business Day', 'compounded_core_lemma_text': 'ii valuationdate mean localBusinessDay'}\n",
      "{'core_lemma_text': 'iv notification time mean 2 p.m. London time local Business Day', 'compounded_core_lemma_text': 'iv notificationtime mean 2 p.m. Londontime local BusinessDay'}\n",
      "{'core_lemma_text': 'party b', 'compounded_core_lemma_text': 'partyb'}\n",
      "{'core_lemma_text': 'local Business Day respect item iii iv definition thereof paragraph 10 mean day when commercial bank open business London Toronto', 'compounded_core_lemma_text': 'localBusinessDay respect item iii iv definition thereof paragraph 10 mean day when commercial bank open business London Toronto'}\n",
      "{'core_lemma_text': 'Kingdom Germany France', 'compounded_core_lemma_text': 'Kingdom Germany France'}\n",
      "{'core_lemma_text': 'D negotiable debt obligation issue x 90 government United', 'compounded_core_lemma_text': 'D negotiable debtobligation issue x 90 government United'}\n",
      "{'core_lemma_text': 'equivalent substitute', 'compounded_core_lemma_text': 'equivalent substitute'}\n",
      "{'core_lemma_text': '1,000,000', 'compounded_core_lemma_text': '1,000,000'}\n",
      "{'core_lemma_text': 'purpose paragraph 3c notice give Exchange Notification Time 2 p.m. London time local Business Day fail relevant notice deem receive follow local Business Day', 'compounded_core_lemma_text': 'purpose paragraph 3c notice give Exchange NotificationTime 2 p.m. Londontime local BusinessDay fail relevant notice deem receive follow localBusinessDay'}\n",
      "{'core_lemma_text': 'e dispute resolution', 'compounded_core_lemma_text': 'e disputeresolution'}\n",
      "{'core_lemma_text': 'f address transfer', 'compounded_core_lemma_text': 'f address transfer'}\n",
      "{'core_lemma_text': 'such account party a notify party b time time', 'compounded_core_lemma_text': 'such account partya notify partyb time time'}\n",
      "{'core_lemma_text': '200 Bay Street', 'compounded_core_lemma_text': '200 BayStreet'}\n",
      "{'core_lemma_text': 'witness party execute credit support annex authorise officer respective date specify below', 'compounded_core_lemma_text': 'witness party execute creditsupportannex authorise officer respective date specify below'}\n",
      "{'core_lemma_text': '', 'compounded_core_lemma_text': ''}\n",
      "{'core_lemma_text': 'equivalent substitute', 'compounded_core_lemma_text': 'equivalent substitute'}\n",
      "{'core_lemma_text': 'Kingdom Germany France', 'compounded_core_lemma_text': 'Kingdom Germany France'}\n",
      "{'core_lemma_text': 'maturity 20 year 35 year', 'compounded_core_lemma_text': 'maturity 20 year 35 year'}\n",
      "{'core_lemma_text': 'a independent amount mean respect party a eur 5 million rating assign such party lower S&P a3 lower Moody otherwise zero', 'compounded_core_lemma_text': 'a independent amount mean respect partya eur 5million rating assign such party lower S&P a3 lower Moody otherwise zero'}\n",
      "{'core_lemma_text': 'fax no. +45 33 12 86 90', 'compounded_core_lemma_text': 'fax no. +45 33 12 86 90'}\n",
      "{'core_lemma_text': 'iii rating rating mean rating issue maintain Standard poor rating Services division McGrawHill company Inc. successor SP Moody investor Service Inc. successor Moody rating agency substitute agreement Party A Party B Substitute Agency respect security hold eligible credit support', 'compounded_core_lemma_text': 'iii rating rating mean rating issue maintain Standard poor ratingServices division McGrawHill company Inc. successor SP Moody investor Service Inc. successor Moody ratingagency substitute agreement PartyA PartyB SubstituteAgency respect security hold eligible creditsupport'}\n",
      "{'core_lemma_text': 'percentage', 'compounded_core_lemma_text': 'percentage'}\n",
      "{'core_lemma_text': 'Agency have remain', 'compounded_core_lemma_text': 'Agency have remain'}\n",
      "{'core_lemma_text': 'e negotiable debt obligation issue x 88 government United', 'compounded_core_lemma_text': 'e negotiable debtobligation issue x 88 government United'}\n",
      "{'core_lemma_text': 'c minimum transfer amount mean respect party a eur 1,000,000', 'compounded_core_lemma_text': 'c minimum transferamount mean respect partya eur 1,000,000'}\n",
      "{'core_lemma_text': 'D rounding Delivery amount return amount round down nearest integral multiple 10,000 respectively', 'compounded_core_lemma_text': 'D rounding Deliveryamount returnamount round down nearest integral multiple 10,000 respectively'}\n"
     ]
    }
   ],
   "source": [
    "for i in df['features']:\n",
    "   print(i)\n"
   ]
  },
  {
   "cell_type": "code",
   "execution_count": null,
   "id": "7d1b9cb5-936a-4510-bb47-74624665f8df",
   "metadata": {},
   "outputs": [],
   "source": []
  },
  {
   "cell_type": "code",
   "execution_count": 14,
   "id": "86b858f3-9895-4c2f-8367-5cd2857de3eb",
   "metadata": {},
   "outputs": [],
   "source": [
    "text = 'core_lemma_text: i Delivery amount return amount credit support amount, compounded_core_lemma_text: i Deliveryamount returnamount creditsupportamount'\n",
    "\n",
    "\n",
    "m = re.search(':(.+?),', text)\n",
    "if m:\n",
    "    found = m.group(1)"
   ]
  },
  {
   "cell_type": "code",
   "execution_count": 15,
   "id": "8a29b5f1-f5a3-4811-99c7-508ba3f15114",
   "metadata": {},
   "outputs": [
    {
     "data": {
      "text/plain": [
       "' i Delivery amount return amount credit support amount'"
      ]
     },
     "execution_count": 15,
     "metadata": {},
     "output_type": "execute_result"
    }
   ],
   "source": [
    "found"
   ]
  },
  {
   "cell_type": "code",
   "execution_count": null,
   "id": "7096e08b-4357-438a-bd54-c0a764051c31",
   "metadata": {},
   "outputs": [],
   "source": []
  },
  {
   "cell_type": "code",
   "execution_count": null,
   "id": "41bfac66-c511-4aaf-a1ff-4f3705a0dd37",
   "metadata": {},
   "outputs": [],
   "source": []
  },
  {
   "cell_type": "code",
   "execution_count": null,
   "id": "659bf86a-e4d4-4b08-af2d-6c3ea985ce51",
   "metadata": {},
   "outputs": [],
   "source": []
  },
  {
   "cell_type": "code",
   "execution_count": null,
   "id": "68ae66e8-3b54-4ebb-a064-459c05ca111b",
   "metadata": {},
   "outputs": [],
   "source": []
  }
 ],
 "metadata": {
  "kernelspec": {
   "display_name": "Python 3 (ipykernel)",
   "language": "python",
   "name": "python3"
  },
  "language_info": {
   "codemirror_mode": {
    "name": "ipython",
    "version": 3
   },
   "file_extension": ".py",
   "mimetype": "text/x-python",
   "name": "python",
   "nbconvert_exporter": "python",
   "pygments_lexer": "ipython3",
   "version": "3.9.7"
  }
 },
 "nbformat": 4,
 "nbformat_minor": 5
}
