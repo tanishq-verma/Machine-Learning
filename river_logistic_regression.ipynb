{
  "cells": [
    {
      "cell_type": "code",
      "execution_count": null,
      "metadata": {
        "colab": {
          "base_uri": "https://localhost:8080/"
        },
        "id": "2H8C8vj6qNVv",
        "outputId": "d5dd5186-49a8-40f6-9440-f47bb794c387"
      },
      "outputs": [
        {
          "name": "stdout",
          "output_type": "stream",
          "text": [
            "Looking in indexes: https://pypi.org/simple, https://us-python.pkg.dev/colab-wheels/public/simple/\n",
            "Collecting river\n",
            "  Downloading river-0.10.1-cp37-cp37m-manylinux_2_5_x86_64.manylinux1_x86_64.manylinux_2_17_x86_64.manylinux2014_x86_64.whl (2.0 MB)\n",
            "\u001b[K     |████████████████████████████████| 2.0 MB 5.2 MB/s \n",
            "\u001b[?25hRequirement already satisfied: pandas>=1.0.1 in /usr/local/lib/python3.7/dist-packages (from river) (1.3.5)\n",
            "Requirement already satisfied: numpy>=1.20.0 in /usr/local/lib/python3.7/dist-packages (from river) (1.21.6)\n",
            "Requirement already satisfied: scipy>=1.4.1 in /usr/local/lib/python3.7/dist-packages (from river) (1.4.1)\n",
            "Requirement already satisfied: python-dateutil>=2.7.3 in /usr/local/lib/python3.7/dist-packages (from pandas>=1.0.1->river) (2.8.2)\n",
            "Requirement already satisfied: pytz>=2017.3 in /usr/local/lib/python3.7/dist-packages (from pandas>=1.0.1->river) (2022.1)\n",
            "Requirement already satisfied: six>=1.5 in /usr/local/lib/python3.7/dist-packages (from python-dateutil>=2.7.3->pandas>=1.0.1->river) (1.15.0)\n",
            "Installing collected packages: river\n",
            "Successfully installed river-0.10.1\n",
            "Looking in indexes: https://pypi.org/simple, https://us-python.pkg.dev/colab-wheels/public/simple/\n",
            "Requirement already satisfied: pandas in /usr/local/lib/python3.7/dist-packages (1.3.5)\n",
            "Requirement already satisfied: numpy>=1.17.3 in /usr/local/lib/python3.7/dist-packages (from pandas) (1.21.6)\n",
            "Requirement already satisfied: python-dateutil>=2.7.3 in /usr/local/lib/python3.7/dist-packages (from pandas) (2.8.2)\n",
            "Requirement already satisfied: pytz>=2017.3 in /usr/local/lib/python3.7/dist-packages (from pandas) (2022.1)\n",
            "Requirement already satisfied: six>=1.5 in /usr/local/lib/python3.7/dist-packages (from python-dateutil>=2.7.3->pandas) (1.15.0)\n"
          ]
        }
      ],
      "source": [
        "!pip install river\n",
        "!pip install pandas\n"
      ]
    },
    {
      "cell_type": "code",
      "execution_count": 29,
      "metadata": {
        "id": "H9FzmFcSrYb3"
      },
      "outputs": [],
      "source": [
        "import river\n",
        "import datetime\n",
        "import json\n",
        "import datetime\n",
        "import pandas as pd\n",
        "import tokenize\n",
        "import pprint\n",
        "\n",
        "from river import preprocessing\n",
        "from river import linear_model\n",
        "from river import optim\n",
        "from river import metrics\n",
        "from river import evaluate\n",
        "\n",
        "from river import feature_extraction\n",
        "\n",
        "from river import datasets\n",
        "from river import evaluate\n",
        "from river import linear_model\n",
        "from river import metrics\n",
        "from river import optim\n",
        "from river import preprocessing\n",
        "from river import compose\n"
      ]
    },
    {
      "cell_type": "code",
      "execution_count": null,
      "metadata": {
        "colab": {
          "base_uri": "https://localhost:8080/"
        },
        "id": "7TQMEmYyrZ5Q",
        "outputId": "27982083-0fff-4c90-dd64-0192f14d64dd"
      },
      "outputs": [
        {
          "name": "stdout",
          "output_type": "stream",
          "text": [
            "file load: 0:00:02.090676\n",
            "{'id': 's6avtdg0pl_QbjGMOcU1', 'features': {'core_lemma_text': 'i Delivery amount return amount credit support amount', 'compounded_core_lemma_text': 'i Deliveryamount returnamount creditsupportamount'}, 'labels': {'provision_type_ids': {'CSA Delivery Amount, Return Amount, and Credit Support Amount': True, 'CSA Credit Support Obligations': True, 'CSA Paragraph 11/13': True, 'CSA Eligible Credit Support / Collateral': False, 'CSA Resolution Time': False, 'CSA Dispute Resolution': False, 'CSA Demands and Notices': False, 'CSA Other Provisions': False, 'CSA Valuation Time': False, 'CSA Valuation and Timing': False, 'CSA Exchange Date': False, 'Addresses for Transfers': False, 'CSA Threshold': False, 'CSA Thresholds': False, 'CSA Minimum Transfer Amount': False, 'CSA Credit Support Amount': False, 'CSA Value': False, 'CSA Return Amount': False, 'CSA Base Currency and Eligible Currency': False, 'CSA Delivery Amount': False, 'CSA Valuation Agent': False, 'CSA Valuation Date': False, 'CSA Notification Time': False, 'CSA Independent Amount': False, 'CSA Rounding': False, 'CSA Alternative': False, 'Scope of Collateralisation': False, 'CSA Distributions and Interest Amount': False, 'Other Provisions': False, 'CSA Substitution': False, 'CSA Alternative to Interest Amount': False, 'CSA Transfer of Interest Amount': False, 'CSA Interest Rate': False, 'CSA Additional Representation(s)': False, 'Preamble': False, 'ISDA Termination Provisions': False, 'ISDA Specified Entity': False, 'Cross-Default': False, 'ISDA Credit Event Upon Merger': False, 'ISDA Payments on Early Termination': False, 'ISDA Tax Representations': False, 'ISDA Payer Representations': False, 'ISDA Agreement to Deliver Documents': False, 'ISDA Miscellaneous': False, 'Address for Notices': False, 'ISDA Credit Support Document': False, 'ISDA Threshold Amount': False, 'ISDA Additional Termination Event': False, 'ISDA Payee Representations': False, 'Process Agent': False, 'ISDA Netting of Payments': False, 'ISDA Credit Support Provider': False, 'Governing Law': False, 'No Agency': False, 'ISDA Specified Indebtedness': False, 'ISDA Automatic Early Termination': False, 'ISDA Offices': False, 'ISDA Calculation Agent': False, 'ISDA Affiliate': False, 'Set-Off': False, 'ISDA Additional Representation': False, 'ISDA Multibranch Party': False, 'ISDA Specified Transaction': False, 'ISDA Termination Currency': False, 'Recording of Conversations': False, 'Relationship Between Parties': False, 'ISDA Absence of Litigation': False, 'Failure to Pay or Deliver': False, 'Scope of Agreement': False, 'Export of Defaults': False}}}\n"
          ]
        }
      ],
      "source": [
        "# PANDAS-FRIENDLY\n",
        "read_start = datetime.datetime.now()\n",
        "\n",
        "with open('combined_names_newest.json') as f:\n",
        "    dataset = json.load(f)\n",
        "\n",
        "# NB: this is getting all used pt_ids, also reformatting in something more like what we might use\n",
        "pts = set()\n",
        "for item in dataset:\n",
        "    item_pts = {}\n",
        "    # NB: this replaces the provision_type_ids list;\n",
        "    # the file has it as a list of strings like this: \"label-true/false\"\n",
        "    # we reformat the list so it is a list of tuples: ['label', bool]\n",
        "    for label in item['labels']['provision_type_ids']:\n",
        "        l = label.rsplit('-', 1)\n",
        "        if l[1] == 'true':\n",
        "            l[1] = True\n",
        "        else:\n",
        "            l[1] = False\n",
        "        pts.add(l[0])\n",
        "        item_pts[l[0]] = l[1]\n",
        "        # if l[0] == 'Governing Law':\n",
        "        #     pts.add(l[0])\n",
        "        #     item_pts.append(l)\n",
        "    item['labels']['provision_type_ids'] = item_pts\n",
        "\n",
        "\n",
        "read_end = datetime.datetime.now()\n",
        "print('file load:', (read_end - read_start))\n",
        "\n",
        "print(dataset[0])"
      ]
    },
    {
      "cell_type": "code",
      "execution_count": null,
      "metadata": {
        "id": "Xfn3vlw3rdJ7"
      },
      "outputs": [],
      "source": [
        "test_dataset = dataset[-10:]\n",
        "\n",
        "normalized = pd.json_normalize(test_dataset)\n",
        "#pprint.pprint(normalized)\n",
        "# # create a list of strings\n",
        "#columns = ['id', 'features.core_lemma_text', 'labels.provision_type_ids[\"CSA Delivery Amount, Return Amount, and Credit Support Amount\"]']\n",
        "\n",
        "\n",
        "# # Passing a dictionary\n",
        "# # key: column name\n",
        "# # value: series of values\n",
        "df = pd.DataFrame(normalized)\n",
        "#print(df)\n",
        "#new_series = df.squeeze()\n",
        "#print(new_series)\n",
        "#print(df)\n",
        "# ser = pd.Series(df['features.core_lemma_text'],index=df[\"id\"])\n",
        "# pprint.pprint(ser)"
      ]
    },
    {
      "cell_type": "code",
      "execution_count": null,
      "metadata": {
        "colab": {
          "base_uri": "https://localhost:8080/",
          "height": 520
        },
        "id": "0j1N8jJxl0Dq",
        "outputId": "ce4b77b3-ad29-439d-a5d3-4c40d6fc66de"
      },
      "outputs": [
        {
          "data": {
            "text/html": [
              "\n",
              "  <div id=\"df-4de95cf7-d252-460f-b244-3b2aec0b742d\">\n",
              "    <div class=\"colab-df-container\">\n",
              "      <div>\n",
              "<style scoped>\n",
              "    .dataframe tbody tr th:only-of-type {\n",
              "        vertical-align: middle;\n",
              "    }\n",
              "\n",
              "    .dataframe tbody tr th {\n",
              "        vertical-align: top;\n",
              "    }\n",
              "\n",
              "    .dataframe thead th {\n",
              "        text-align: right;\n",
              "    }\n",
              "</style>\n",
              "<table border=\"1\" class=\"dataframe\">\n",
              "  <thead>\n",
              "    <tr style=\"text-align: right;\">\n",
              "      <th></th>\n",
              "      <th>id</th>\n",
              "      <th>features.core_lemma_text</th>\n",
              "      <th>features.compounded_core_lemma_text</th>\n",
              "      <th>labels.provision_type_ids.CSA Delivery Amount, Return Amount, and Credit Support Amount</th>\n",
              "      <th>labels.provision_type_ids.CSA Credit Support Obligations</th>\n",
              "      <th>labels.provision_type_ids.CSA Paragraph 11/13</th>\n",
              "      <th>labels.provision_type_ids.CSA Eligible Credit Support / Collateral</th>\n",
              "      <th>labels.provision_type_ids.CSA Resolution Time</th>\n",
              "      <th>labels.provision_type_ids.CSA Dispute Resolution</th>\n",
              "      <th>labels.provision_type_ids.CSA Demands and Notices</th>\n",
              "      <th>...</th>\n",
              "      <th>labels.provision_type_ids.ISDA Additional Representation</th>\n",
              "      <th>labels.provision_type_ids.ISDA Multibranch Party</th>\n",
              "      <th>labels.provision_type_ids.ISDA Specified Transaction</th>\n",
              "      <th>labels.provision_type_ids.ISDA Termination Currency</th>\n",
              "      <th>labels.provision_type_ids.Recording of Conversations</th>\n",
              "      <th>labels.provision_type_ids.Relationship Between Parties</th>\n",
              "      <th>labels.provision_type_ids.ISDA Absence of Litigation</th>\n",
              "      <th>labels.provision_type_ids.Failure to Pay or Deliver</th>\n",
              "      <th>labels.provision_type_ids.Scope of Agreement</th>\n",
              "      <th>labels.provision_type_ids.Export of Defaults</th>\n",
              "    </tr>\n",
              "  </thead>\n",
              "  <tbody>\n",
              "    <tr>\n",
              "      <th>0</th>\n",
              "      <td>v2Oh0IETww3WAd2-tiwF</td>\n",
              "      <td>New York NY 10022</td>\n",
              "      <td>NewYork NY 10022</td>\n",
              "      <td>False</td>\n",
              "      <td>False</td>\n",
              "      <td>False</td>\n",
              "      <td>False</td>\n",
              "      <td>False</td>\n",
              "      <td>False</td>\n",
              "      <td>False</td>\n",
              "      <td>...</td>\n",
              "      <td>False</td>\n",
              "      <td>False</td>\n",
              "      <td>False</td>\n",
              "      <td>False</td>\n",
              "      <td>False</td>\n",
              "      <td>False</td>\n",
              "      <td>False</td>\n",
              "      <td>False</td>\n",
              "      <td>False</td>\n",
              "      <td>False</td>\n",
              "    </tr>\n",
              "    <tr>\n",
              "      <th>1</th>\n",
              "      <td>q36Vd5XFPTk2S8gHHPoi</td>\n",
              "      <td>attention back office</td>\n",
              "      <td>attention backoffice</td>\n",
              "      <td>False</td>\n",
              "      <td>False</td>\n",
              "      <td>False</td>\n",
              "      <td>False</td>\n",
              "      <td>False</td>\n",
              "      <td>False</td>\n",
              "      <td>False</td>\n",
              "      <td>...</td>\n",
              "      <td>False</td>\n",
              "      <td>False</td>\n",
              "      <td>False</td>\n",
              "      <td>False</td>\n",
              "      <td>False</td>\n",
              "      <td>False</td>\n",
              "      <td>False</td>\n",
              "      <td>False</td>\n",
              "      <td>False</td>\n",
              "      <td>False</td>\n",
              "    </tr>\n",
              "    <tr>\n",
              "      <th>2</th>\n",
              "      <td>j8E7ZSgG7qqEvjIrNHk_</td>\n",
              "      <td>telex no. 649462</td>\n",
              "      <td>telexno. 649462</td>\n",
              "      <td>False</td>\n",
              "      <td>False</td>\n",
              "      <td>False</td>\n",
              "      <td>False</td>\n",
              "      <td>False</td>\n",
              "      <td>False</td>\n",
              "      <td>False</td>\n",
              "      <td>...</td>\n",
              "      <td>False</td>\n",
              "      <td>False</td>\n",
              "      <td>False</td>\n",
              "      <td>False</td>\n",
              "      <td>False</td>\n",
              "      <td>False</td>\n",
              "      <td>False</td>\n",
              "      <td>False</td>\n",
              "      <td>False</td>\n",
              "      <td>False</td>\n",
              "    </tr>\n",
              "    <tr>\n",
              "      <th>3</th>\n",
              "      <td>p9TpwUaWXTvrqd1y-vHG</td>\n",
              "      <td>facsimile 45 33 91 1521</td>\n",
              "      <td>facsimile 45 33 91 1521</td>\n",
              "      <td>False</td>\n",
              "      <td>False</td>\n",
              "      <td>False</td>\n",
              "      <td>False</td>\n",
              "      <td>False</td>\n",
              "      <td>False</td>\n",
              "      <td>False</td>\n",
              "      <td>...</td>\n",
              "      <td>False</td>\n",
              "      <td>False</td>\n",
              "      <td>False</td>\n",
              "      <td>False</td>\n",
              "      <td>False</td>\n",
              "      <td>False</td>\n",
              "      <td>False</td>\n",
              "      <td>False</td>\n",
              "      <td>False</td>\n",
              "      <td>False</td>\n",
              "    </tr>\n",
              "    <tr>\n",
              "      <th>4</th>\n",
              "      <td>r9T4zjsW5Rcw3OttNaVb</td>\n",
              "      <td>attn. management</td>\n",
              "      <td>attn. management</td>\n",
              "      <td>False</td>\n",
              "      <td>False</td>\n",
              "      <td>False</td>\n",
              "      <td>False</td>\n",
              "      <td>False</td>\n",
              "      <td>False</td>\n",
              "      <td>False</td>\n",
              "      <td>...</td>\n",
              "      <td>False</td>\n",
              "      <td>False</td>\n",
              "      <td>False</td>\n",
              "      <td>False</td>\n",
              "      <td>False</td>\n",
              "      <td>False</td>\n",
              "      <td>False</td>\n",
              "      <td>False</td>\n",
              "      <td>False</td>\n",
              "      <td>False</td>\n",
              "    </tr>\n",
              "    <tr>\n",
              "      <th>5</th>\n",
              "      <td>f8oRo6v1THrrT7WBhMSA</td>\n",
              "      <td>SW1X 9SR</td>\n",
              "      <td>SW1X 9SR</td>\n",
              "      <td>False</td>\n",
              "      <td>False</td>\n",
              "      <td>False</td>\n",
              "      <td>False</td>\n",
              "      <td>False</td>\n",
              "      <td>False</td>\n",
              "      <td>False</td>\n",
              "      <td>...</td>\n",
              "      <td>False</td>\n",
              "      <td>False</td>\n",
              "      <td>False</td>\n",
              "      <td>False</td>\n",
              "      <td>False</td>\n",
              "      <td>False</td>\n",
              "      <td>False</td>\n",
              "      <td>False</td>\n",
              "      <td>False</td>\n",
              "      <td>False</td>\n",
              "    </tr>\n",
              "    <tr>\n",
              "      <th>6</th>\n",
              "      <td>y1h5Av4u-dqNs5Ijd9BA</td>\n",
              "      <td>c Offices provision section 10a apply agreement</td>\n",
              "      <td>c Offices provision section 10a apply agreement</td>\n",
              "      <td>False</td>\n",
              "      <td>False</td>\n",
              "      <td>False</td>\n",
              "      <td>False</td>\n",
              "      <td>False</td>\n",
              "      <td>False</td>\n",
              "      <td>False</td>\n",
              "      <td>...</td>\n",
              "      <td>False</td>\n",
              "      <td>False</td>\n",
              "      <td>False</td>\n",
              "      <td>False</td>\n",
              "      <td>False</td>\n",
              "      <td>False</td>\n",
              "      <td>False</td>\n",
              "      <td>False</td>\n",
              "      <td>False</td>\n",
              "      <td>False</td>\n",
              "    </tr>\n",
              "    <tr>\n",
              "      <th>7</th>\n",
              "      <td>o4LyYnXaqwb1UMC8Fb4c</td>\n",
              "      <td>follow provision insert section 6f</td>\n",
              "      <td>follow provision insert section 6f</td>\n",
              "      <td>False</td>\n",
              "      <td>False</td>\n",
              "      <td>False</td>\n",
              "      <td>False</td>\n",
              "      <td>False</td>\n",
              "      <td>False</td>\n",
              "      <td>False</td>\n",
              "      <td>...</td>\n",
              "      <td>False</td>\n",
              "      <td>False</td>\n",
              "      <td>False</td>\n",
              "      <td>False</td>\n",
              "      <td>False</td>\n",
              "      <td>False</td>\n",
              "      <td>False</td>\n",
              "      <td>False</td>\n",
              "      <td>False</td>\n",
              "      <td>False</td>\n",
              "    </tr>\n",
              "    <tr>\n",
              "      <th>8</th>\n",
              "      <td>v2-IBGNEmOqs6NNyIbxU</td>\n",
              "      <td>4 amendment</td>\n",
              "      <td>4 amendment</td>\n",
              "      <td>False</td>\n",
              "      <td>False</td>\n",
              "      <td>False</td>\n",
              "      <td>False</td>\n",
              "      <td>False</td>\n",
              "      <td>False</td>\n",
              "      <td>False</td>\n",
              "      <td>...</td>\n",
              "      <td>False</td>\n",
              "      <td>False</td>\n",
              "      <td>False</td>\n",
              "      <td>False</td>\n",
              "      <td>False</td>\n",
              "      <td>False</td>\n",
              "      <td>False</td>\n",
              "      <td>False</td>\n",
              "      <td>False</td>\n",
              "      <td>False</td>\n",
              "    </tr>\n",
              "    <tr>\n",
              "      <th>9</th>\n",
              "      <td>d1HbEkbM6zwPUB6mhW0G</td>\n",
              "      <td>5 Indemnifiable tax</td>\n",
              "      <td>5 Indemnifiabletax</td>\n",
              "      <td>False</td>\n",
              "      <td>False</td>\n",
              "      <td>False</td>\n",
              "      <td>False</td>\n",
              "      <td>False</td>\n",
              "      <td>False</td>\n",
              "      <td>False</td>\n",
              "      <td>...</td>\n",
              "      <td>False</td>\n",
              "      <td>False</td>\n",
              "      <td>False</td>\n",
              "      <td>False</td>\n",
              "      <td>False</td>\n",
              "      <td>False</td>\n",
              "      <td>False</td>\n",
              "      <td>False</td>\n",
              "      <td>False</td>\n",
              "      <td>False</td>\n",
              "    </tr>\n",
              "  </tbody>\n",
              "</table>\n",
              "<p>10 rows × 73 columns</p>\n",
              "</div>\n",
              "      <button class=\"colab-df-convert\" onclick=\"convertToInteractive('df-4de95cf7-d252-460f-b244-3b2aec0b742d')\"\n",
              "              title=\"Convert this dataframe to an interactive table.\"\n",
              "              style=\"display:none;\">\n",
              "        \n",
              "  <svg xmlns=\"http://www.w3.org/2000/svg\" height=\"24px\"viewBox=\"0 0 24 24\"\n",
              "       width=\"24px\">\n",
              "    <path d=\"M0 0h24v24H0V0z\" fill=\"none\"/>\n",
              "    <path d=\"M18.56 5.44l.94 2.06.94-2.06 2.06-.94-2.06-.94-.94-2.06-.94 2.06-2.06.94zm-11 1L8.5 8.5l.94-2.06 2.06-.94-2.06-.94L8.5 2.5l-.94 2.06-2.06.94zm10 10l.94 2.06.94-2.06 2.06-.94-2.06-.94-.94-2.06-.94 2.06-2.06.94z\"/><path d=\"M17.41 7.96l-1.37-1.37c-.4-.4-.92-.59-1.43-.59-.52 0-1.04.2-1.43.59L10.3 9.45l-7.72 7.72c-.78.78-.78 2.05 0 2.83L4 21.41c.39.39.9.59 1.41.59.51 0 1.02-.2 1.41-.59l7.78-7.78 2.81-2.81c.8-.78.8-2.07 0-2.86zM5.41 20L4 18.59l7.72-7.72 1.47 1.35L5.41 20z\"/>\n",
              "  </svg>\n",
              "      </button>\n",
              "      \n",
              "  <style>\n",
              "    .colab-df-container {\n",
              "      display:flex;\n",
              "      flex-wrap:wrap;\n",
              "      gap: 12px;\n",
              "    }\n",
              "\n",
              "    .colab-df-convert {\n",
              "      background-color: #E8F0FE;\n",
              "      border: none;\n",
              "      border-radius: 50%;\n",
              "      cursor: pointer;\n",
              "      display: none;\n",
              "      fill: #1967D2;\n",
              "      height: 32px;\n",
              "      padding: 0 0 0 0;\n",
              "      width: 32px;\n",
              "    }\n",
              "\n",
              "    .colab-df-convert:hover {\n",
              "      background-color: #E2EBFA;\n",
              "      box-shadow: 0px 1px 2px rgba(60, 64, 67, 0.3), 0px 1px 3px 1px rgba(60, 64, 67, 0.15);\n",
              "      fill: #174EA6;\n",
              "    }\n",
              "\n",
              "    [theme=dark] .colab-df-convert {\n",
              "      background-color: #3B4455;\n",
              "      fill: #D2E3FC;\n",
              "    }\n",
              "\n",
              "    [theme=dark] .colab-df-convert:hover {\n",
              "      background-color: #434B5C;\n",
              "      box-shadow: 0px 1px 3px 1px rgba(0, 0, 0, 0.15);\n",
              "      filter: drop-shadow(0px 1px 2px rgba(0, 0, 0, 0.3));\n",
              "      fill: #FFFFFF;\n",
              "    }\n",
              "  </style>\n",
              "\n",
              "      <script>\n",
              "        const buttonEl =\n",
              "          document.querySelector('#df-4de95cf7-d252-460f-b244-3b2aec0b742d button.colab-df-convert');\n",
              "        buttonEl.style.display =\n",
              "          google.colab.kernel.accessAllowed ? 'block' : 'none';\n",
              "\n",
              "        async function convertToInteractive(key) {\n",
              "          const element = document.querySelector('#df-4de95cf7-d252-460f-b244-3b2aec0b742d');\n",
              "          const dataTable =\n",
              "            await google.colab.kernel.invokeFunction('convertToInteractive',\n",
              "                                                     [key], {});\n",
              "          if (!dataTable) return;\n",
              "\n",
              "          const docLinkHtml = 'Like what you see? Visit the ' +\n",
              "            '<a target=\"_blank\" href=https://colab.research.google.com/notebooks/data_table.ipynb>data table notebook</a>'\n",
              "            + ' to learn more about interactive tables.';\n",
              "          element.innerHTML = '';\n",
              "          dataTable['output_type'] = 'display_data';\n",
              "          await google.colab.output.renderOutput(dataTable, element);\n",
              "          const docLink = document.createElement('div');\n",
              "          docLink.innerHTML = docLinkHtml;\n",
              "          element.appendChild(docLink);\n",
              "        }\n",
              "      </script>\n",
              "    </div>\n",
              "  </div>\n",
              "  "
            ],
            "text/plain": [
              "                     id                         features.core_lemma_text  \\\n",
              "0  v2Oh0IETww3WAd2-tiwF                                New York NY 10022   \n",
              "1  q36Vd5XFPTk2S8gHHPoi                            attention back office   \n",
              "2  j8E7ZSgG7qqEvjIrNHk_                                 telex no. 649462   \n",
              "3  p9TpwUaWXTvrqd1y-vHG                          facsimile 45 33 91 1521   \n",
              "4  r9T4zjsW5Rcw3OttNaVb                                 attn. management   \n",
              "5  f8oRo6v1THrrT7WBhMSA                                         SW1X 9SR   \n",
              "6  y1h5Av4u-dqNs5Ijd9BA  c Offices provision section 10a apply agreement   \n",
              "7  o4LyYnXaqwb1UMC8Fb4c               follow provision insert section 6f   \n",
              "8  v2-IBGNEmOqs6NNyIbxU                                      4 amendment   \n",
              "9  d1HbEkbM6zwPUB6mhW0G                              5 Indemnifiable tax   \n",
              "\n",
              "               features.compounded_core_lemma_text  \\\n",
              "0                                 NewYork NY 10022   \n",
              "1                             attention backoffice   \n",
              "2                                  telexno. 649462   \n",
              "3                          facsimile 45 33 91 1521   \n",
              "4                                 attn. management   \n",
              "5                                         SW1X 9SR   \n",
              "6  c Offices provision section 10a apply agreement   \n",
              "7               follow provision insert section 6f   \n",
              "8                                      4 amendment   \n",
              "9                               5 Indemnifiabletax   \n",
              "\n",
              "   labels.provision_type_ids.CSA Delivery Amount, Return Amount, and Credit Support Amount  \\\n",
              "0                                              False                                         \n",
              "1                                              False                                         \n",
              "2                                              False                                         \n",
              "3                                              False                                         \n",
              "4                                              False                                         \n",
              "5                                              False                                         \n",
              "6                                              False                                         \n",
              "7                                              False                                         \n",
              "8                                              False                                         \n",
              "9                                              False                                         \n",
              "\n",
              "   labels.provision_type_ids.CSA Credit Support Obligations  \\\n",
              "0                                              False          \n",
              "1                                              False          \n",
              "2                                              False          \n",
              "3                                              False          \n",
              "4                                              False          \n",
              "5                                              False          \n",
              "6                                              False          \n",
              "7                                              False          \n",
              "8                                              False          \n",
              "9                                              False          \n",
              "\n",
              "   labels.provision_type_ids.CSA Paragraph 11/13  \\\n",
              "0                                          False   \n",
              "1                                          False   \n",
              "2                                          False   \n",
              "3                                          False   \n",
              "4                                          False   \n",
              "5                                          False   \n",
              "6                                          False   \n",
              "7                                          False   \n",
              "8                                          False   \n",
              "9                                          False   \n",
              "\n",
              "   labels.provision_type_ids.CSA Eligible Credit Support / Collateral  \\\n",
              "0                                              False                    \n",
              "1                                              False                    \n",
              "2                                              False                    \n",
              "3                                              False                    \n",
              "4                                              False                    \n",
              "5                                              False                    \n",
              "6                                              False                    \n",
              "7                                              False                    \n",
              "8                                              False                    \n",
              "9                                              False                    \n",
              "\n",
              "   labels.provision_type_ids.CSA Resolution Time  \\\n",
              "0                                          False   \n",
              "1                                          False   \n",
              "2                                          False   \n",
              "3                                          False   \n",
              "4                                          False   \n",
              "5                                          False   \n",
              "6                                          False   \n",
              "7                                          False   \n",
              "8                                          False   \n",
              "9                                          False   \n",
              "\n",
              "   labels.provision_type_ids.CSA Dispute Resolution  \\\n",
              "0                                             False   \n",
              "1                                             False   \n",
              "2                                             False   \n",
              "3                                             False   \n",
              "4                                             False   \n",
              "5                                             False   \n",
              "6                                             False   \n",
              "7                                             False   \n",
              "8                                             False   \n",
              "9                                             False   \n",
              "\n",
              "   labels.provision_type_ids.CSA Demands and Notices  ...  \\\n",
              "0                                              False  ...   \n",
              "1                                              False  ...   \n",
              "2                                              False  ...   \n",
              "3                                              False  ...   \n",
              "4                                              False  ...   \n",
              "5                                              False  ...   \n",
              "6                                              False  ...   \n",
              "7                                              False  ...   \n",
              "8                                              False  ...   \n",
              "9                                              False  ...   \n",
              "\n",
              "   labels.provision_type_ids.ISDA Additional Representation  \\\n",
              "0                                              False          \n",
              "1                                              False          \n",
              "2                                              False          \n",
              "3                                              False          \n",
              "4                                              False          \n",
              "5                                              False          \n",
              "6                                              False          \n",
              "7                                              False          \n",
              "8                                              False          \n",
              "9                                              False          \n",
              "\n",
              "   labels.provision_type_ids.ISDA Multibranch Party  \\\n",
              "0                                             False   \n",
              "1                                             False   \n",
              "2                                             False   \n",
              "3                                             False   \n",
              "4                                             False   \n",
              "5                                             False   \n",
              "6                                             False   \n",
              "7                                             False   \n",
              "8                                             False   \n",
              "9                                             False   \n",
              "\n",
              "   labels.provision_type_ids.ISDA Specified Transaction  \\\n",
              "0                                              False      \n",
              "1                                              False      \n",
              "2                                              False      \n",
              "3                                              False      \n",
              "4                                              False      \n",
              "5                                              False      \n",
              "6                                              False      \n",
              "7                                              False      \n",
              "8                                              False      \n",
              "9                                              False      \n",
              "\n",
              "   labels.provision_type_ids.ISDA Termination Currency  \\\n",
              "0                                              False     \n",
              "1                                              False     \n",
              "2                                              False     \n",
              "3                                              False     \n",
              "4                                              False     \n",
              "5                                              False     \n",
              "6                                              False     \n",
              "7                                              False     \n",
              "8                                              False     \n",
              "9                                              False     \n",
              "\n",
              "   labels.provision_type_ids.Recording of Conversations  \\\n",
              "0                                              False      \n",
              "1                                              False      \n",
              "2                                              False      \n",
              "3                                              False      \n",
              "4                                              False      \n",
              "5                                              False      \n",
              "6                                              False      \n",
              "7                                              False      \n",
              "8                                              False      \n",
              "9                                              False      \n",
              "\n",
              "   labels.provision_type_ids.Relationship Between Parties  \\\n",
              "0                                              False        \n",
              "1                                              False        \n",
              "2                                              False        \n",
              "3                                              False        \n",
              "4                                              False        \n",
              "5                                              False        \n",
              "6                                              False        \n",
              "7                                              False        \n",
              "8                                              False        \n",
              "9                                              False        \n",
              "\n",
              "   labels.provision_type_ids.ISDA Absence of Litigation  \\\n",
              "0                                              False      \n",
              "1                                              False      \n",
              "2                                              False      \n",
              "3                                              False      \n",
              "4                                              False      \n",
              "5                                              False      \n",
              "6                                              False      \n",
              "7                                              False      \n",
              "8                                              False      \n",
              "9                                              False      \n",
              "\n",
              "   labels.provision_type_ids.Failure to Pay or Deliver  \\\n",
              "0                                              False     \n",
              "1                                              False     \n",
              "2                                              False     \n",
              "3                                              False     \n",
              "4                                              False     \n",
              "5                                              False     \n",
              "6                                              False     \n",
              "7                                              False     \n",
              "8                                              False     \n",
              "9                                              False     \n",
              "\n",
              "   labels.provision_type_ids.Scope of Agreement  \\\n",
              "0                                         False   \n",
              "1                                         False   \n",
              "2                                         False   \n",
              "3                                         False   \n",
              "4                                         False   \n",
              "5                                         False   \n",
              "6                                         False   \n",
              "7                                         False   \n",
              "8                                         False   \n",
              "9                                         False   \n",
              "\n",
              "   labels.provision_type_ids.Export of Defaults  \n",
              "0                                         False  \n",
              "1                                         False  \n",
              "2                                         False  \n",
              "3                                         False  \n",
              "4                                         False  \n",
              "5                                         False  \n",
              "6                                         False  \n",
              "7                                         False  \n",
              "8                                         False  \n",
              "9                                         False  \n",
              "\n",
              "[10 rows x 73 columns]"
            ]
          },
          "execution_count": 5,
          "metadata": {},
          "output_type": "execute_result"
        }
      ],
      "source": [
        "df"
      ]
    },
    {
      "cell_type": "code",
      "execution_count": 46,
      "metadata": {
        "colab": {
          "base_uri": "https://localhost:8080/"
        },
        "id": "gZkxq804k9Wz",
        "outputId": "271a2e98-ea34-41eb-d0d9-3ef8db756b02"
      },
      "outputs": [
        {
          "output_type": "stream",
          "name": "stdout",
          "text": [
            "{'new': 0.5, 'york': 0.5, 'ny': 0.5, '10022': 0.5}\n",
            "{'attention': 0.5773502691896258, 'back': 0.5773502691896258, 'office': 0.5773502691896258}\n",
            "{'telex': 0.5773502691896257, 'no': 0.5773502691896257, '649462': 0.5773502691896257}\n",
            "{'facsimile': 0.4472135954999579, '45': 0.4472135954999579, '33': 0.4472135954999579, '91': 0.4472135954999579, '1521': 0.4472135954999579}\n",
            "{'attn': 0.7071067811865475, 'management': 0.7071067811865475}\n",
            "{'sw1x': 0.7071067811865476, '9sr': 0.7071067811865476}\n",
            "{'offices': 0.408248290463863, 'provision': 0.408248290463863, 'section': 0.408248290463863, '10a': 0.408248290463863, 'apply': 0.408248290463863, 'agreement': 0.408248290463863}\n",
            "{'follow': 0.47647419687686043, 'provision': 0.399322563306691, 'insert': 0.47647419687686043, 'section': 0.399322563306691, '6f': 0.47647419687686043}\n",
            "{'amendment': 1.0}\n",
            "{'indemnifiable': 0.7071067811865475, 'tax': 0.7071067811865475}\n"
          ]
        }
      ],
      "source": [
        "tfidf = feature_extraction.TFIDF()\n",
        "\n",
        "sentance = df['features.core_lemma_text']\n",
        "tf = []\n",
        "for s in sentance:\n",
        "    tfidf = tfidf.learn_one(s)\n",
        "    print(tfidf.transform_one(s))\n",
        "    tf.append(tfidf.transform_one(s))"
      ]
    },
    {
      "cell_type": "code",
      "source": [
        "tf"
      ],
      "metadata": {
        "colab": {
          "base_uri": "https://localhost:8080/"
        },
        "id": "P4oPP7RA4c6p",
        "outputId": "5a2dcd75-9d85-483e-d4ae-e8925d0b4a7a"
      },
      "execution_count": 47,
      "outputs": [
        {
          "output_type": "execute_result",
          "data": {
            "text/plain": [
              "[{'10022': 0.5, 'new': 0.5, 'ny': 0.5, 'york': 0.5},\n",
              " {'attention': 0.5773502691896258,\n",
              "  'back': 0.5773502691896258,\n",
              "  'office': 0.5773502691896258},\n",
              " {'649462': 0.5773502691896257,\n",
              "  'no': 0.5773502691896257,\n",
              "  'telex': 0.5773502691896257},\n",
              " {'1521': 0.4472135954999579,\n",
              "  '33': 0.4472135954999579,\n",
              "  '45': 0.4472135954999579,\n",
              "  '91': 0.4472135954999579,\n",
              "  'facsimile': 0.4472135954999579},\n",
              " {'attn': 0.7071067811865475, 'management': 0.7071067811865475},\n",
              " {'9sr': 0.7071067811865476, 'sw1x': 0.7071067811865476},\n",
              " {'10a': 0.408248290463863,\n",
              "  'agreement': 0.408248290463863,\n",
              "  'apply': 0.408248290463863,\n",
              "  'offices': 0.408248290463863,\n",
              "  'provision': 0.408248290463863,\n",
              "  'section': 0.408248290463863},\n",
              " {'6f': 0.47647419687686043,\n",
              "  'follow': 0.47647419687686043,\n",
              "  'insert': 0.47647419687686043,\n",
              "  'provision': 0.399322563306691,\n",
              "  'section': 0.399322563306691},\n",
              " {'amendment': 1.0},\n",
              " {'indemnifiable': 0.7071067811865475, 'tax': 0.7071067811865475}]"
            ]
          },
          "metadata": {},
          "execution_count": 47
        }
      ]
    },
    {
      "cell_type": "code",
      "execution_count": 30,
      "metadata": {
        "id": "88-5FxWYlAt8"
      },
      "outputs": [],
      "source": [
        "model = compose.Pipeline(\n",
        "     preprocessing.StandardScaler(),\n",
        "     linear_model.LogisticRegression()\n",
        " )"
      ]
    },
    {
      "cell_type": "code",
      "execution_count": 31,
      "metadata": {
        "id": "BLP1_YmVl_yo"
      },
      "outputs": [],
      "source": [
        "metric = metrics.Accuracy()"
      ]
    },
    {
      "cell_type": "code",
      "execution_count": null,
      "metadata": {
        "colab": {
          "base_uri": "https://localhost:8080/"
        },
        "id": "gH24v1vgqClI",
        "outputId": "81c025c2-e224-4be5-db63-df60e70d9075"
      },
      "outputs": [
        {
          "name": "stdout",
          "output_type": "stream",
          "text": [
            "['labels.provision_type_ids.CSA Delivery Amount, Return Amount, and Credit Support Amount', 'labels.provision_type_ids.CSA Credit Support Obligations', 'labels.provision_type_ids.CSA Paragraph 11/13', 'labels.provision_type_ids.CSA Eligible Credit Support / Collateral', 'labels.provision_type_ids.CSA Resolution Time', 'labels.provision_type_ids.CSA Dispute Resolution', 'labels.provision_type_ids.CSA Demands and Notices', 'labels.provision_type_ids.CSA Other Provisions', 'labels.provision_type_ids.CSA Valuation Time', 'labels.provision_type_ids.CSA Valuation and Timing', 'labels.provision_type_ids.CSA Exchange Date', 'labels.provision_type_ids.Addresses for Transfers', 'labels.provision_type_ids.CSA Threshold', 'labels.provision_type_ids.CSA Thresholds', 'labels.provision_type_ids.CSA Minimum Transfer Amount', 'labels.provision_type_ids.CSA Credit Support Amount', 'labels.provision_type_ids.CSA Value', 'labels.provision_type_ids.CSA Return Amount', 'labels.provision_type_ids.CSA Base Currency and Eligible Currency', 'labels.provision_type_ids.CSA Delivery Amount', 'labels.provision_type_ids.CSA Valuation Agent', 'labels.provision_type_ids.CSA Valuation Date', 'labels.provision_type_ids.CSA Notification Time', 'labels.provision_type_ids.CSA Independent Amount', 'labels.provision_type_ids.CSA Rounding', 'labels.provision_type_ids.CSA Alternative', 'labels.provision_type_ids.Scope of Collateralisation', 'labels.provision_type_ids.CSA Distributions and Interest Amount', 'labels.provision_type_ids.Other Provisions', 'labels.provision_type_ids.CSA Substitution', 'labels.provision_type_ids.CSA Alternative to Interest Amount', 'labels.provision_type_ids.CSA Transfer of Interest Amount', 'labels.provision_type_ids.CSA Interest Rate', 'labels.provision_type_ids.CSA Additional Representation(s)', 'labels.provision_type_ids.Preamble', 'labels.provision_type_ids.ISDA Termination Provisions', 'labels.provision_type_ids.ISDA Specified Entity', 'labels.provision_type_ids.Cross-Default', 'labels.provision_type_ids.ISDA Credit Event Upon Merger', 'labels.provision_type_ids.ISDA Payments on Early Termination', 'labels.provision_type_ids.ISDA Tax Representations', 'labels.provision_type_ids.ISDA Payer Representations', 'labels.provision_type_ids.ISDA Agreement to Deliver Documents', 'labels.provision_type_ids.ISDA Miscellaneous', 'labels.provision_type_ids.Address for Notices', 'labels.provision_type_ids.ISDA Credit Support Document', 'labels.provision_type_ids.ISDA Threshold Amount', 'labels.provision_type_ids.ISDA Additional Termination Event', 'labels.provision_type_ids.ISDA Payee Representations', 'labels.provision_type_ids.Process Agent', 'labels.provision_type_ids.ISDA Netting of Payments', 'labels.provision_type_ids.ISDA Credit Support Provider', 'labels.provision_type_ids.Governing Law', 'labels.provision_type_ids.No Agency', 'labels.provision_type_ids.ISDA Specified Indebtedness', 'labels.provision_type_ids.ISDA Automatic Early Termination', 'labels.provision_type_ids.ISDA Offices', 'labels.provision_type_ids.ISDA Calculation Agent', 'labels.provision_type_ids.ISDA Affiliate', 'labels.provision_type_ids.Set-Off', 'labels.provision_type_ids.ISDA Additional Representation', 'labels.provision_type_ids.ISDA Multibranch Party', 'labels.provision_type_ids.ISDA Specified Transaction', 'labels.provision_type_ids.ISDA Termination Currency', 'labels.provision_type_ids.Recording of Conversations', 'labels.provision_type_ids.Relationship Between Parties', 'labels.provision_type_ids.ISDA Absence of Litigation', 'labels.provision_type_ids.Failure to Pay or Deliver', 'labels.provision_type_ids.Scope of Agreement', 'labels.provision_type_ids.Export of Defaults']\n"
          ]
        }
      ],
      "source": [
        "columns = list(df)\n",
        "\n",
        "del columns[:3]\n",
        "\n",
        "\n",
        "print(columns)\n",
        "len(columns)\n",
        "\n",
        "rows = len(df.index.values)"
      ]
    },
    {
      "cell_type": "code",
      "execution_count": null,
      "metadata": {
        "id": "0satP1ierCq7"
      },
      "outputs": [],
      "source": [
        "metric = metrics.Accuracy()\n"
      ]
    },
    {
      "cell_type": "code",
      "execution_count": null,
      "metadata": {
        "id": "7objhWSkrW0-"
      },
      "outputs": [],
      "source": [
        "from sklearn.preprocessing import LabelEncoder\n",
        "\n",
        "y_encoded = []\n",
        "le= LabelEncoder()\n",
        "for i in columns:\n",
        "  y_encoded.append(le.fit_transform(df[i]))  \n",
        "\n",
        "\n",
        "\n",
        "\n"
      ]
    },
    {
      "cell_type": "code",
      "execution_count": 23,
      "metadata": {
        "id": "mQEd1u8Sr0oE",
        "colab": {
          "base_uri": "https://localhost:8080/"
        },
        "outputId": "4742aa9b-dfc6-4aa5-869b-82f066a0963e"
      },
      "outputs": [
        {
          "output_type": "stream",
          "name": "stdout",
          "text": [
            "[array([0, 0, 0, 0, 0, 0, 0, 0, 0, 0]), array([0, 0, 0, 0, 0, 0, 0, 0, 0, 0]), array([0, 0, 0, 0, 0, 0, 0, 0, 0, 0]), array([0, 0, 0, 0, 0, 0, 0, 0, 0, 0]), array([0, 0, 0, 0, 0, 0, 0, 0, 0, 0]), array([0, 0, 0, 0, 0, 0, 0, 0, 0, 0]), array([0, 0, 0, 0, 0, 0, 0, 0, 0, 0]), array([0, 0, 0, 0, 0, 0, 0, 0, 0, 0]), array([0, 0, 0, 0, 0, 0, 0, 0, 0, 0]), array([0, 0, 0, 0, 0, 0, 0, 0, 0, 0]), array([0, 0, 0, 0, 0, 0, 0, 0, 0, 0]), array([0, 0, 0, 0, 0, 0, 0, 0, 0, 0]), array([0, 0, 0, 0, 0, 0, 0, 0, 0, 0]), array([0, 0, 0, 0, 0, 0, 0, 0, 0, 0]), array([0, 0, 0, 0, 0, 0, 0, 0, 0, 0]), array([0, 0, 0, 0, 0, 0, 0, 0, 0, 0]), array([0, 0, 0, 0, 0, 0, 0, 0, 0, 0]), array([0, 0, 0, 0, 0, 0, 0, 0, 0, 0]), array([0, 0, 0, 0, 0, 0, 0, 0, 0, 0]), array([0, 0, 0, 0, 0, 0, 0, 0, 0, 0]), array([0, 0, 0, 0, 0, 0, 0, 0, 0, 0]), array([0, 0, 0, 0, 0, 0, 0, 0, 0, 0]), array([0, 0, 0, 0, 0, 0, 0, 0, 0, 0]), array([0, 0, 0, 0, 0, 0, 0, 0, 0, 0]), array([0, 0, 0, 0, 0, 0, 0, 0, 0, 0]), array([0, 0, 0, 0, 0, 0, 0, 0, 0, 0]), array([0, 0, 0, 0, 0, 0, 0, 0, 0, 0]), array([0, 0, 0, 0, 0, 0, 0, 0, 0, 0]), array([0, 0, 0, 0, 0, 0, 0, 1, 1, 1]), array([0, 0, 0, 0, 0, 0, 0, 0, 0, 0]), array([0, 0, 0, 0, 0, 0, 0, 0, 0, 0]), array([0, 0, 0, 0, 0, 0, 0, 0, 0, 0]), array([0, 0, 0, 0, 0, 0, 0, 0, 0, 0]), array([0, 0, 0, 0, 0, 0, 0, 0, 0, 0]), array([0, 0, 0, 0, 0, 0, 0, 0, 0, 0]), array([0, 0, 0, 0, 0, 0, 0, 0, 0, 0]), array([0, 0, 0, 0, 0, 0, 0, 0, 0, 0]), array([0, 0, 0, 0, 0, 0, 0, 0, 0, 0]), array([0, 0, 0, 0, 0, 0, 0, 0, 0, 0]), array([0, 0, 0, 0, 0, 0, 0, 0, 0, 0]), array([0, 0, 0, 0, 0, 0, 0, 0, 0, 0]), array([0, 0, 0, 0, 0, 0, 0, 0, 0, 0]), array([0, 0, 0, 0, 0, 0, 0, 0, 0, 0]), array([1, 1, 1, 1, 1, 1, 1, 0, 0, 0]), array([1, 1, 1, 1, 0, 0, 0, 0, 0, 0]), array([0, 0, 0, 0, 0, 0, 0, 0, 0, 0]), array([0, 0, 0, 0, 0, 0, 0, 0, 0, 0]), array([0, 0, 0, 0, 0, 0, 0, 0, 0, 0]), array([0, 0, 0, 0, 0, 0, 0, 0, 0, 0]), array([0, 0, 0, 0, 1, 1, 0, 0, 0, 0]), array([0, 0, 0, 0, 0, 0, 0, 0, 0, 0]), array([0, 0, 0, 0, 0, 0, 0, 0, 0, 0]), array([0, 0, 0, 0, 0, 0, 0, 0, 0, 0]), array([0, 0, 0, 0, 0, 0, 0, 0, 0, 0]), array([0, 0, 0, 0, 0, 0, 0, 0, 0, 0]), array([0, 0, 0, 0, 0, 0, 0, 0, 0, 0]), array([0, 0, 0, 0, 0, 0, 1, 0, 0, 0]), array([0, 0, 0, 0, 0, 0, 0, 0, 0, 0]), array([0, 0, 0, 0, 0, 0, 0, 0, 0, 0]), array([0, 0, 0, 0, 0, 0, 0, 0, 0, 0]), array([0, 0, 0, 0, 0, 0, 0, 0, 0, 0]), array([0, 0, 0, 0, 0, 0, 0, 0, 0, 0]), array([0, 0, 0, 0, 0, 0, 0, 0, 0, 0]), array([0, 0, 0, 0, 0, 0, 0, 0, 0, 0]), array([0, 0, 0, 0, 0, 0, 0, 0, 0, 0]), array([0, 0, 0, 0, 0, 0, 0, 0, 0, 0]), array([0, 0, 0, 0, 0, 0, 0, 0, 0, 0]), array([0, 0, 0, 0, 0, 0, 0, 0, 0, 0]), array([0, 0, 0, 0, 0, 0, 0, 0, 0, 0]), array([0, 0, 0, 0, 0, 0, 0, 0, 0, 0])]\n"
          ]
        }
      ],
      "source": [
        "print(y_encoded)"
      ]
    },
    {
      "cell_type": "code",
      "execution_count": 43,
      "metadata": {
        "id": "0NzjU8I7skCp"
      },
      "outputs": [],
      "source": [
        ""
      ]
    },
    {
      "cell_type": "code",
      "execution_count": 43,
      "metadata": {
        "id": "WoYkbwQovRK0"
      },
      "outputs": [],
      "source": [
        ""
      ]
    },
    {
      "cell_type": "code",
      "execution_count": 43,
      "metadata": {
        "id": "U4_ARJe81Vd-"
      },
      "outputs": [],
      "source": [
        ""
      ]
    },
    {
      "cell_type": "code",
      "execution_count": 43,
      "metadata": {
        "id": "N5EhBMUs0cf8"
      },
      "outputs": [],
      "source": [
        ""
      ]
    },
    {
      "cell_type": "code",
      "execution_count": null,
      "metadata": {
        "id": "IKW_YS5mwSuN"
      },
      "outputs": [],
      "source": [
        ""
      ]
    },
    {
      "cell_type": "code",
      "execution_count": null,
      "metadata": {
        "id": "BjeY9lzhiCws"
      },
      "outputs": [],
      "source": [
        ""
      ]
    },
    {
      "cell_type": "code",
      "execution_count": null,
      "metadata": {
        "id": "xenLJAh4iDNA"
      },
      "outputs": [],
      "source": [
        "  "
      ]
    },
    {
      "cell_type": "code",
      "execution_count": 51,
      "metadata": {
        "id": "PyoySTl_iDl_"
      },
      "outputs": [],
      "source": [
        "\n"
      ]
    },
    {
      "cell_type": "code",
      "execution_count": null,
      "metadata": {
        "id": "JO4NhbEfxLVp"
      },
      "outputs": [],
      "source": [
        ""
      ]
    },
    {
      "cell_type": "code",
      "execution_count": 49,
      "metadata": {
        "id": "HonA0t5wlBY6"
      },
      "outputs": [],
      "source": [
        "for i in tf:\n",
        "  y_pred = model.predict_one(i)"
      ]
    },
    {
      "cell_type": "code",
      "execution_count": 42,
      "metadata": {
        "id": "bHdcFQ5GzK98"
      },
      "outputs": [],
      "source": [
        "for i in df['labels.provision_type_ids.Address for Notices']:\n",
        "  metric = metric.update(i, y_pred)"
      ]
    },
    {
      "cell_type": "code",
      "execution_count": 43,
      "metadata": {
        "id": "wV3WhGErhq5n"
      },
      "outputs": [],
      "source": [
        "for i in df['labels.provision_type_ids.Address for Notices']:\n",
        "  model = model.learn_one(a, i)"
      ]
    },
    {
      "cell_type": "code",
      "execution_count": null,
      "metadata": {
        "id": "wbXSHl3Xhujg"
      },
      "outputs": [],
      "source": [
        ""
      ]
    }
  ],
  "metadata": {
    "colab": {
      "collapsed_sections": [],
      "name": "river logistic regression.ipynb",
      "provenance": []
    },
    "kernelspec": {
      "display_name": "Python 3",
      "name": "python3"
    },
    "language_info": {
      "name": "python"
    }
  },
  "nbformat": 4,
  "nbformat_minor": 0
}