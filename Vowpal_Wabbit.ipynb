{
  "nbformat": 4,
  "nbformat_minor": 0,
  "metadata": {
    "colab": {
      "name": "Vowpal Wabbit.ipynb",
      "provenance": [],
      "collapsed_sections": []
    },
    "kernelspec": {
      "name": "python3",
      "display_name": "Python 3"
    },
    "language_info": {
      "name": "python"
    }
  },
  "cells": [
    {
      "cell_type": "code",
      "execution_count": 72,
      "metadata": {
        "id": "1QCxZyhe9GOv",
        "colab": {
          "base_uri": "https://localhost:8080/"
        },
        "outputId": "0404f5d3-5d93-468f-9a28-550217b72bb8"
      },
      "outputs": [
        {
          "output_type": "stream",
          "name": "stdout",
          "text": [
            "Looking in indexes: https://pypi.org/simple, https://us-python.pkg.dev/colab-wheels/public/simple/\n",
            "Requirement already satisfied: vowpalwabbit in /usr/local/lib/python3.7/dist-packages (9.2.0)\n"
          ]
        }
      ],
      "source": [
        "!pip install vowpalwabbit\n"
      ]
    },
    {
      "cell_type": "code",
      "source": [
        "import vowpalwabbit\n",
        "import datetime\n"
      ],
      "metadata": {
        "id": "Uya7XWHV9m-E"
      },
      "execution_count": 73,
      "outputs": []
    },
    {
      "cell_type": "code",
      "source": [
        "!sudo apt-get install vowpal-wabbit"
      ],
      "metadata": {
        "colab": {
          "base_uri": "https://localhost:8080/"
        },
        "id": "y5B7mCRkNae8",
        "outputId": "5a968211-231c-4586-b6a3-e558a466623d"
      },
      "execution_count": 74,
      "outputs": [
        {
          "output_type": "stream",
          "name": "stdout",
          "text": [
            "Reading package lists... Done\n",
            "Building dependency tree       \n",
            "Reading state information... Done\n",
            "vowpal-wabbit is already the newest version (8.5.0.dfsg1-1).\n",
            "The following package was automatically installed and is no longer required:\n",
            "  libnvidia-common-460\n",
            "Use 'sudo apt autoremove' to remove it.\n",
            "0 upgraded, 0 newly installed, 0 to remove and 49 not upgraded.\n"
          ]
        }
      ]
    },
    {
      "cell_type": "code",
      "source": [
        "import os\n",
        "import numpy as np\n",
        "import re\n",
        "from sklearn.datasets import load_files\n",
        "from sklearn.metrics import accuracy_score, roc_auc_score\n",
        "import json\n",
        "import datetime\n"
      ],
      "metadata": {
        "id": "uImLenFh94H0"
      },
      "execution_count": 75,
      "outputs": []
    },
    {
      "cell_type": "code",
      "source": [
        "def to_vw_format(document, label=None):\n",
        "      return str(label or '') + ' |text ' + ' '.join(re.findall('\\w{3,}', document.lower())) + '\\n'"
      ],
      "metadata": {
        "id": "B4L1SuDq-9xd"
      },
      "execution_count": 76,
      "outputs": []
    },
    {
      "cell_type": "markdown",
      "source": [
        ""
      ],
      "metadata": {
        "id": "HvZb-zvBy6-h"
      }
    },
    {
      "cell_type": "code",
      "source": [
        "read_start = datetime.datetime.now()\n",
        "\n",
        "with open('combined_names_newest.json') as f:\n",
        "    dataset = json.load(f)\n",
        "    \n",
        "\n",
        "# NB: this is getting all used pt_ids, also reformatting in something more like what we might use\n",
        "pts = set()\n",
        "for item in dataset:\n",
        "    item_pts = []\n",
        "    # NB: this replaces the provision_type_ids list;\n",
        "    # the file has it as a list of strings like this: \"label-true/false\"\n",
        "    # we reformat the list so it is a list of tuples: ['label', bool]\n",
        "    for label in item['labels']['provision_type_ids']:\n",
        "        l = label.rsplit('-', 1)\n",
        "        if l[1] == 'true':\n",
        "            l[1] = 1\n",
        "        else:\n",
        "            l[1] = 0\n",
        "        pts.add(l[0])\n",
        "        item_pts.append(l)\n",
        "        #if l[0] == 'Governing Law':\n",
        "        #     pts.add(l[0])\n",
        "        #     item_pts.append(l)\n",
        "    item['labels']['provision_type_ids'] = item_pts\n",
        "\n",
        "\n",
        "read_end = datetime.datetime.now()\n",
        "print('file load:', (read_end - read_start))"
      ],
      "metadata": {
        "colab": {
          "base_uri": "https://localhost:8080/"
        },
        "id": "0Soe0wFIU5XT",
        "outputId": "1f21f020-62f8-49a1-da82-9fa103740363"
      },
      "execution_count": 77,
      "outputs": [
        {
          "output_type": "stream",
          "name": "stdout",
          "text": [
            "file load: 0:00:02.980018\n"
          ]
        }
      ]
    },
    {
      "cell_type": "code",
      "source": [
        "train_size = int(0.7 * len(dataset))\n"
      ],
      "metadata": {
        "id": "4l3h3xczp6VH"
      },
      "execution_count": 78,
      "outputs": []
    },
    {
      "cell_type": "code",
      "source": [
        "new_list = [] #all provision tags with labels\n",
        "for item in dataset:\n",
        "\n",
        "  for key,value in item['labels'].items():\n",
        "    new_list.append(value)"
      ],
      "metadata": {
        "id": "tJDqWWVXOMgX"
      },
      "execution_count": 79,
      "outputs": []
    },
    {
      "cell_type": "code",
      "source": [
        "final_list = [] #only first provision tag\n",
        "for i in range(len(new_list)):\n",
        "  final_list.append(new_list[i][63])"
      ],
      "metadata": {
        "id": "S6JcEexqqOAo"
      },
      "execution_count": 80,
      "outputs": []
    },
    {
      "cell_type": "code",
      "source": [
        "labels_new = [] #only outcome of the provision tag if 1 or 0\n",
        "for i in range(len(final_list)):\n",
        "  labels_new.append(final_list[i][-1])"
      ],
      "metadata": {
        "id": "10mvxjh4OTFY"
      },
      "execution_count": 81,
      "outputs": []
    },
    {
      "cell_type": "code",
      "source": [
        "len(labels_new) #final labels"
      ],
      "metadata": {
        "colab": {
          "base_uri": "https://localhost:8080/"
        },
        "id": "qlbOh2sDO5zo",
        "outputId": "3c0efaa7-9153-4416-e823-329ced24fb4b"
      },
      "execution_count": 82,
      "outputs": [
        {
          "output_type": "execute_result",
          "data": {
            "text/plain": [
              "18051"
            ]
          },
          "metadata": {},
          "execution_count": 82
        }
      ]
    },
    {
      "cell_type": "code",
      "source": [
        "y_train = labels_new[:train_size] #splitting final labels"
      ],
      "metadata": {
        "id": "OZXQpH06txLq"
      },
      "execution_count": 83,
      "outputs": []
    },
    {
      "cell_type": "code",
      "source": [
        "# train = []\n",
        "# for item in dataset:\n",
        "#   train.append(item['features'])"
      ],
      "metadata": {
        "id": "Q-a6DZj1by17"
      },
      "execution_count": 84,
      "outputs": []
    },
    {
      "cell_type": "code",
      "source": [
        "# new_train = []\n",
        "# for i in train:\n",
        "#     new_train.append(i)"
      ],
      "metadata": {
        "id": "4Z0SMOAfX4vl"
      },
      "execution_count": 85,
      "outputs": []
    },
    {
      "cell_type": "code",
      "source": [
        "# text = {}\n",
        "# for i in range(len(new_train)):\n",
        "#   b = new_train[i]\n",
        "#   text.update(b)"
      ],
      "metadata": {
        "id": "aXlt_rXd7lj0"
      },
      "execution_count": 86,
      "outputs": []
    },
    {
      "cell_type": "code",
      "source": [
        "# text"
      ],
      "metadata": {
        "id": "2bhGAbY-DAcy"
      },
      "execution_count": 87,
      "outputs": []
    },
    {
      "cell_type": "code",
      "source": [
        "final_text = [] #core_lemma_text and compound core lemma text splitted\n",
        "for item in dataset[:train_size]:\n",
        "  for key,value in item['features'].items():\n",
        "    final_text.append(value)"
      ],
      "metadata": {
        "id": "ZU5uUcpX8Oot"
      },
      "execution_count": 88,
      "outputs": []
    },
    {
      "cell_type": "code",
      "source": [
        "len(final_text)"
      ],
      "metadata": {
        "colab": {
          "base_uri": "https://localhost:8080/"
        },
        "id": "2mGWQ7AABFO4",
        "outputId": "80a5a827-df61-4428-edcb-583870ef4f2c"
      },
      "execution_count": 89,
      "outputs": [
        {
          "output_type": "execute_result",
          "data": {
            "text/plain": [
              "25270"
            ]
          },
          "metadata": {},
          "execution_count": 89
        }
      ]
    },
    {
      "cell_type": "code",
      "source": [
        "del final_text[1::2]"
      ],
      "metadata": {
        "id": "4PiL37zkAjct"
      },
      "execution_count": 90,
      "outputs": []
    },
    {
      "cell_type": "code",
      "source": [
        "len(final_text) #final text with only core_lemma_text"
      ],
      "metadata": {
        "colab": {
          "base_uri": "https://localhost:8080/"
        },
        "id": "uhZEH8OtD5zG",
        "outputId": "12aa7e72-690e-42ca-939c-da79ba3517c3"
      },
      "execution_count": 91,
      "outputs": [
        {
          "output_type": "execute_result",
          "data": {
            "text/plain": [
              "12635"
            ]
          },
          "metadata": {},
          "execution_count": 91
        }
      ]
    },
    {
      "cell_type": "code",
      "source": [
        "read_start = datetime.datetime.now()\n",
        "\n",
        "\n",
        "with open('/content/combined_names_newest.vw', 'w') as vw_train_data:\n",
        "   \n",
        "   for text, target in zip(final_text,y_train):\n",
        "     vw_train_data.write(to_vw_format(str(text), 1 if target == 1 else -1))\n",
        "\n",
        "\n",
        "read_end = datetime.datetime.now()\n",
        "print('time taken:', (read_end - read_start))"
      ],
      "metadata": {
        "colab": {
          "base_uri": "https://localhost:8080/"
        },
        "id": "-DKSO1ERLz7Y",
        "outputId": "b5d40898-cbf3-4a22-f029-8da7211865e9"
      },
      "execution_count": 92,
      "outputs": [
        {
          "output_type": "stream",
          "name": "stdout",
          "text": [
            "time taken: 0:00:00.139082\n"
          ]
        }
      ]
    },
    {
      "cell_type": "code",
      "source": [
        "! head -200 combined_names_newest.vw"
      ],
      "metadata": {
        "colab": {
          "base_uri": "https://localhost:8080/"
        },
        "id": "rDhcUgygjCAX",
        "outputId": "fb03af93-9412-4acb-ea04-90bfd34d9ca7"
      },
      "execution_count": 93,
      "outputs": [
        {
          "output_type": "stream",
          "name": "stdout",
          "text": [
            "-1 |text delivery amount return amount credit support amount\n",
            "-1 |text aaa1 aa3p1 moody\n",
            "-1 |text maturity eight year\n",
            "-1 |text equivalent substitute\n",
            "-1 |text resolution time mean london time local business day follow date notice give give rise dispute paragraph\n",
            "-1 |text royal bank canada\n",
            "-1 |text valuation date\n",
            "-1 |text negotiable debt obligation issue government united\n",
            "-1 |text finland minimum rating\n",
            "-1 |text time time\n",
            "-1 |text close business place location valuation agent valuation date date calculation applicable\n",
            "-1 |text close business local business day immediately precede valuation date date calculation applicable\n",
            "-1 |text exchange\n",
            "-1 |text attn collateral management\n",
            "-1 |text finland minimum rating\n",
            "-1 |text aaa1 aa3p1 moody\n",
            "-1 |text valuation timing\n",
            "-1 |text party\n",
            "-1 |text 2nd floor south tower\n",
            "-1 |text \n",
            "-1 |text negotiable debt obligation issue government united\n",
            "-1 |text agency have remain\n",
            "-1 |text threshold mean respect party zero\n",
            "-1 |text minimum transfer amount mean respect party eur\n",
            "-1 |text attention middle office collateral management\n",
            "-1 |text adaptivelending\n",
            "-1 |text adaptive lane 2010\n",
            "-1 |text \n",
            "-1 |text \n",
            "-1 |text credit support amount have meaning specify paragraph\n",
            "-1 |text negotiable debt obligation issue government united\n",
            "-1 |text year valuation date\n",
            "-1 |text iii valuation time mean\n",
            "-1 |text exchange date have meaning specify paragraph 3cii\n",
            "-1 |text credit support equivalent credit support case calculate follow\n",
            "-1 |text royal bank plaza\n",
            "-1 |text telephone 416 842 4529 842 4729\n",
            "-1 |text demand specification notice party annex make\n",
            "-1 |text tel\n",
            "-1 |text local business day paragraph amend follow\n",
            "-1 |text \n",
            "-1 |text finland minimum rating\n",
            "-1 |text maturity year year\n",
            "-1 |text other eligible credit support tba agree party\n",
            "-1 |text provide such security quote primary exchange dealing such security less three local business day prior valuation date further provide purpose paragraph valuation percentage item eligible credit support 100\n",
            "-1 |text notwithstand provision paragraph 11biiic when credit support amount respect transferor valuation date zero then purpose return amount such transferor minimum transfer amount respect transferee zero\n",
            "-1 |text canada m5j 2w7\n",
            "-1 |text return amount have meaning specify paragraph\n",
            "-1 |text eligible credit support follow item qualify eligible credit support party specify\n",
            "-1 |text agency have remain\n",
            "-1 |text provide event default termination event occur respect party minimum transfer amount such party reduce zero immediately occurrence such event\n",
            "-1 |text value cash face amount thereof multiply applicable valuation percentage\n",
            "-1 |text credit support obligation\n",
            "-1 |text party party valuation\n",
            "-1 |text maturity less four year\n",
            "-1 |text agency have remain\n",
            "-1 |text kingdom germany france\n",
            "-1 |text aaa1 aa3p1 moody\n",
            "-1 |text agency have remain\n",
            "-1 |text value purpose paragraph 4a4ic 4a4 value outstanding credit support balance transfer eligible\n",
            "-1 |text other provision\n",
            "-1 |text demand specification notice party annex make\n",
            "-1 |text base currency mean eur\n",
            "-1 |text eligible currency mean applicable\n",
            "-1 |text delivery amount have meaning specify paragraph\n",
            "-1 |text aaa1 aa3p1 moody\n",
            "-1 |text finland minimum rating\n",
            "-1 |text threshold mean respect party zero\n",
            "-1 |text value security arithmetic mean three mid market quote quote such date three principal market maker such security choose valuation agent quotation available three principal market maker such date mid market quote day next precede such date such quotation available accrue interest such security extend transfer party pursuant applicable provision agreement include applicable price refer clause such date multiply applicable valuation percentage\n",
            "-1 |text such account party notify party time time\n",
            "-1 |text email collateral rbccm com\n",
            "-1 |text paragraph election variable\n",
            "-1 |text equivalent substitute\n",
            "-1 |text valuation agent mean party\n",
            "-1 |text valuation date mean local business day\n",
            "-1 |text notification time mean london time local business day\n",
            "-1 |text party\n",
            "-1 |text local business day respect item iii definition thereof paragraph mean day when commercial bank open business london toronto\n",
            "-1 |text kingdom germany france\n",
            "-1 |text negotiable debt obligation issue government united\n",
            "-1 |text equivalent substitute\n",
            "-1 |text 000 000\n",
            "-1 |text purpose paragraph notice give exchange notification time london time local business day fail relevant notice deem receive follow local business day\n",
            "-1 |text dispute resolution\n",
            "-1 |text address transfer\n",
            "-1 |text such account party notify party time time\n",
            "-1 |text 200 bay street\n",
            "-1 |text witness party execute credit support annex authorise officer respective date specify below\n",
            "-1 |text \n",
            "-1 |text equivalent substitute\n",
            "-1 |text kingdom germany france\n",
            "-1 |text maturity year year\n",
            "-1 |text independent amount mean respect party eur million rating assign such party lower lower moody otherwise zero\n",
            "-1 |text fax\n",
            "-1 |text iii rating rating mean rating issue maintain standard poor rating services division mcgrawhill company inc successor moody investor service inc successor moody rating agency substitute agreement party party substitute agency respect security hold eligible credit support\n",
            "-1 |text percentage\n",
            "-1 |text agency have remain\n",
            "-1 |text negotiable debt obligation issue government united\n",
            "-1 |text minimum transfer amount mean respect party eur 000 000\n",
            "-1 |text rounding delivery amount return amount round down nearest integral multiple 000 respectively\n",
            "-1 |text iii alternative provision paragraph apply\n",
            "-1 |text facsimile 416 842 4334\n",
            "-1 |text 1175 london\n",
            "-1 |text amendment meaning transaction notwithstand contrary herein purpose definition exposure term transaction deem exclude foreign exchange spot transaction understand only apply foreign exchange transaction respect settlement date specify occur not later two business day trade date greater certainty event occurrence event default termination event early termination date relate annex agreement foregoing foreign exchange spot transaction include term calculation determination set forth section agreement definition affect transaction terminate transaction thereunder\n",
            "-1 |text base currency eligible currency\n",
            "-1 |text kingdom germany france\n",
            "-1 |text maturity four year eight\n",
            "-1 |text year valuation date\n",
            "-1 |text kingdom germany france\n",
            "-1 |text valuation date\n",
            "-1 |text iii threshold\n",
            "-1 |text independent amount mean respect party none\n",
            "-1 |text transferee right exchange have effect validity enforceability paragraph prior fifth local business day schedule distribution date respect eligible credit support comprise credit support balance other cash transferee give notice exchange notice transferor specify item eligible credit support exchange relevant distribution date receipt exchange notice transferor require local business day prior distribution date indicate exchange notice exchange eligible credit support accordance paragraph new credit support have distribution date day date exchange notice transferor fail exchange eligible credit support accordance provision party agree notwithstand other provision agreement section apply distribution respect eligible credit support reference exchange notice\n",
            "-1 |text party party\n",
            "-1 |text royal bank canada adaptivelending\n",
            "-1 |text aaa1 aa3p1 moody\n",
            "-1 |text valuation date\n",
            "-1 |text provide calculation value exposure far practicable make approximately same time same date\n",
            "-1 |text demand notice paragraph annex delete entirety replace follow\n",
            "-1 |text mail collateral adaptivelending com\n",
            "-1 |text valuation statement valuation statement mean daily calculation value exposure make valuation agent duly notify party such valuation statement deliver party excel spreadsheet format\n",
            "-1 |text \n",
            "-1 |text equivalent substitute\n",
            "-1 |text finland minimum rating\n",
            "-1 |text toronto ontario\n",
            "-1 |text aa3p moody equivalent\n",
            "-1 |text threshold mean respect party zero\n",
            "-1 |text credit support amount have meaning specify paragraph\n",
            "-1 |text germany france united\n",
            "-1 |text year valuation\n",
            "-1 |text independent amount mean respect party none provide party rating bbb below baa2 below moody independent amount respect party 000 000\n",
            "-1 |text valuation agent mean party\n",
            "-1 |text notification time mean noon london time local business day\n",
            "-1 |text credit support obligation\n",
            "-1 |text party party valuation\n",
            "-1 |text provide event default termination event occur respect party minimum transfer amount such party reduce zero immediately occurrence such event\n",
            "-1 |text base currency eligible currency\n",
            "-1 |text base currency mean eur\n",
            "-1 |text remain maturity four year\n",
            "-1 |text iii threshold\n",
            "-1 |text valuation timing\n",
            "-1 |text negotiable debt obligation issue government england\n",
            "-1 |text provide such security quote primary exchange dealing such security less three local business day prior valuation date further provide purpose paragraph valuation percentage item eligible credit support 100\n",
            "-1 |text independent amount mean respect party none\n",
            "-1 |text 000 000\n",
            "-1 |text kingdom finland\n",
            "-1 |text minimum rating aaa1\n",
            "-1 |text substitute agency have\n",
            "-1 |text close business place location valuation agent valuation date date calculation applicable\n",
            "-1 |text paragraph election variable\n",
            "-1 |text remain maturity less\n",
            "-1 |text kingdom finland\n",
            "-1 |text germany france united\n",
            "-1 |text percentage\n",
            "-1 |text aa3p moody equivalent\n",
            "-1 |text kingdom finland\n",
            "-1 |text minimum rating aaa1\n",
            "-1 |text remain maturity year\n",
            "-1 |text year valuation date\n",
            "-1 |text minimum transfer amount mean respect party eur 000 000\n",
            "-1 |text exchange\n",
            "-1 |text delivery amount have meaning specify paragraph\n",
            "-1 |text aa3p moody equivalent\n",
            "-1 |text remain maturity eight year\n",
            "-1 |text remain maturity year\n",
            "-1 |text provide calculation value exposure far practicable make approximately same time same date\n",
            "-1 |text resolution time mean noon london time local business day follow date notice give give rise dispute paragraph\n",
            "-1 |text date\n",
            "-1 |text time time\n",
            "-1 |text notwithstand provision paragraph 11biiic when credit support amount respect transferor valuation date zero then purpose return amount such transferor minimum transfer amount respect transferee zero\n",
            "-1 |text dispute resolution\n",
            "-1 |text return amount have meaning specify paragraph\n",
            "-1 |text eligible credit support follow item qualify eligible credit support party specify\n",
            "-1 |text negotiable debt obligation issue government england\n",
            "-1 |text four year valuation date\n",
            "-1 |text iii valuation time mean\n",
            "-1 |text close business local business day immediately precede valuation date date calculation applicable\n",
            "-1 |text exchange date have meaning specify paragraph 3cii\n",
            "-1 |text delivery amount return amount credit support amount\n",
            "-1 |text negotiable debt obligation issue government england\n",
            "-1 |text substitute agency have\n",
            "-1 |text other eligible credit support tba agree party\n",
            "-1 |text substitute agency have\n",
            "-1 |text germany france united\n",
            "-1 |text negotiable debt obligation issue government england\n",
            "-1 |text germany france united\n",
            "-1 |text date\n",
            "-1 |text substitute agency have\n",
            "-1 |text year valuation date\n",
            "-1 |text negotiable debt obligation issue government england\n",
            "-1 |text eligible currency mean applicable\n",
            "-1 |text aa3p moody equivalent\n",
            "-1 |text germany france united\n",
            "-1 |text substitute agency have\n",
            "-1 |text minimum transfer amount mean respect party eur\n",
            "-1 |text valuation date mean local business day\n",
            "-1 |text purpose paragraph notice give exchange notification time noon london time local business day fail relevant notice deem receive follow local business day\n",
            "-1 |text minimum rating aaa1\n",
            "-1 |text minimum rating aaa1\n",
            "-1 |text kingdom finland\n"
          ]
        }
      ]
    },
    {
      "cell_type": "code",
      "source": [
        "# new_list = []\n",
        "# for item in dataset:\n",
        "\n",
        "#   for key,value in item['labels'].items():\n",
        "#     new_list.append(value)"
      ],
      "metadata": {
        "id": "sr9svm5ImcP9"
      },
      "execution_count": 94,
      "outputs": []
    },
    {
      "cell_type": "code",
      "source": [
        "# labels_new = []\n",
        "# for j in range(len(new_list)):  \n",
        "#   for i in range(len(labels)):\n",
        "#     new = []\n",
        "#     new = labels[i]\n",
        "\n",
        "#     labels_new.append(new[-1])"
      ],
      "metadata": {
        "id": "ilGoeCkznwCo"
      },
      "execution_count": 95,
      "outputs": []
    },
    {
      "cell_type": "code",
      "source": [
        "!vw -d /content/combined_names_newest.vw --loss_function logistic -f model2.vw"
      ],
      "metadata": {
        "colab": {
          "base_uri": "https://localhost:8080/"
        },
        "id": "fzwvAHsWoCV8",
        "outputId": "1b23c103-e9b8-45bf-fda1-9250304affe6"
      },
      "execution_count": 96,
      "outputs": [
        {
          "output_type": "stream",
          "name": "stdout",
          "text": [
            "final_regressor = model2.vw\n",
            "Num weight bits = 18\n",
            "learning rate = 0.5\n",
            "initial_t = 0\n",
            "power_t = 0.5\n",
            "using no cache\n",
            "Reading datafile = /content/combined_names_newest.vw\n",
            "num sources = 1\n",
            "average  since         example        example  current  current  current\n",
            "loss     last          counter         weight    label  predict features\n",
            "0.693147 0.693147            1            1.0  -1.0000   0.0000        8\n",
            "0.661258 0.629368            2            2.0  -1.0000  -0.1319        4\n",
            "0.608957 0.556656            4            4.0  -1.0000  -0.3431        3\n",
            "0.536290 0.463622            8            8.0  -1.0000  -0.5855        7\n",
            "0.408241 0.280193           16           16.0  -1.0000  -1.3616        4\n",
            "0.317998 0.227754           32           32.0  -1.0000  -2.1592        4\n",
            "0.211691 0.105385           64           64.0  -1.0000  -2.5546        5\n",
            "0.138000 0.064309          128          128.0  -1.0000  -4.5460        8\n",
            "0.087135 0.036269          256          256.0  -1.0000  -3.0254        4\n",
            "0.054847 0.022559          512          512.0  -1.0000 -16.7319       60\n",
            "0.033810 0.012774         1024         1024.0  -1.0000  -6.3167        8\n",
            "0.020499 0.007187         2048         2048.0  -1.0000  -4.5816        2\n",
            "0.012044 0.003590         4096         4096.0  -1.0000  -8.8265        8\n",
            "0.019893 0.027741         8192         8192.0  -1.0000  -6.0145        5\n",
            "\n",
            "finished run\n",
            "number of examples per pass = 12635\n",
            "passes used = 1\n",
            "weighted example sum = 12635.000000\n",
            "weighted label sum = -12543.000000\n",
            "average loss = 0.017129\n",
            "best constant = -5.611938\n",
            "best constant's loss = 0.024079\n",
            "total feature number = 132821\n"
          ]
        }
      ]
    },
    {
      "cell_type": "code",
      "source": [
        "y_test = labels_new[train_size:] #test lable spliitted"
      ],
      "metadata": {
        "id": "0PWjBB_2tNAq"
      },
      "execution_count": 97,
      "outputs": []
    },
    {
      "cell_type": "code",
      "source": [
        "final_text_test = [] #test splitted along with core_lemma_text and compound_core_lemma_text\n",
        "for item in dataset[train_size:]:\n",
        "  for key,value in item['features'].items():\n",
        "    final_text_test.append(value)"
      ],
      "metadata": {
        "id": "6Sbr4B72KZd6"
      },
      "execution_count": 98,
      "outputs": []
    },
    {
      "cell_type": "code",
      "source": [
        "len(final_text_test)"
      ],
      "metadata": {
        "colab": {
          "base_uri": "https://localhost:8080/"
        },
        "id": "JOrudbLXKcBr",
        "outputId": "003f7103-a1dc-473e-84bf-ad96b2675ce7"
      },
      "execution_count": 99,
      "outputs": [
        {
          "output_type": "execute_result",
          "data": {
            "text/plain": [
              "10832"
            ]
          },
          "metadata": {},
          "execution_count": 99
        }
      ]
    },
    {
      "cell_type": "code",
      "source": [
        "del final_text_test[1::2] #test splitted only core_lemma_text"
      ],
      "metadata": {
        "id": "xsYpiNj0KcgM"
      },
      "execution_count": 100,
      "outputs": []
    },
    {
      "cell_type": "code",
      "source": [
        "len(final_text_test)"
      ],
      "metadata": {
        "colab": {
          "base_uri": "https://localhost:8080/"
        },
        "id": "nnq9zRx8Kcq-",
        "outputId": "4c5cf17c-f4f8-4144-dcc5-993d73fa0983"
      },
      "execution_count": 101,
      "outputs": [
        {
          "output_type": "execute_result",
          "data": {
            "text/plain": [
              "5416"
            ]
          },
          "metadata": {},
          "execution_count": 101
        }
      ]
    },
    {
      "cell_type": "code",
      "source": [
        "with open('/content/combined_names_newest_test.vw', 'w') as vw_train_data:\n",
        "   for text, target in zip(final_text_test,y_test):\n",
        "     vw_train_data.write(to_vw_format(str(text), 1 if target == 1 else -1))"
      ],
      "metadata": {
        "id": "upiBaeWxsdF3"
      },
      "execution_count": 102,
      "outputs": []
    },
    {
      "cell_type": "code",
      "source": [
        "! head -200 combined_names_newest_test.vw"
      ],
      "metadata": {
        "colab": {
          "base_uri": "https://localhost:8080/"
        },
        "id": "r_H6SZLPqez1",
        "outputId": "6d832312-9797-4bda-cbdd-d49a350205da"
      },
      "execution_count": 103,
      "outputs": [
        {
          "output_type": "stream",
          "name": "stdout",
          "text": [
            "-1 |text purpose section agreement party agree deliver follow document applicable\n",
            "-1 |text copy most recent annual financial report certified independent public accountant\n",
            "-1 |text telephone 33416000\n",
            "-1 |text part tax representation\n",
            "-1 |text documentation evidence authority incumbency specimen signature person execute document other document relate thereto\n",
            "-1 |text \n",
            "-1 |text party\n",
            "-1 |text \n",
            "-1 |text adaptivelending\n",
            "-1 |text facsimile\n",
            "-1 |text process agent purpose section 13c agreement\n",
            "-1 |text signing agreement\n",
            "-1 |text address\n",
            "-1 |text credit support provider mean relation party applicable\n",
            "-1 |text govern law agreement govern construe accordance english law\n",
            "-1 |text storebæltsforbindelsen\n",
            "-1 |text specify entity mean relation party purpose\n",
            "-1 |text section 5biv applicable\n",
            "-1 |text second method apply\n",
            "-1 |text payer tax representation applicable\n",
            "-1 |text execution delivery agreement\n",
            "-1 |text adaptive lane 2010\n",
            "-1 |text address\n",
            "-1 |text credit support provider credit support provider mean relation party applicable\n",
            "-1 |text section 5avii applicable\n",
            "-1 |text 21690\n",
            "-1 |text offices provision section 10a apply agreement\n",
            "-1 |text section 5avii applicable\n",
            "-1 |text specify transaction have meaning specify section agreement\n",
            "-1 |text none\n",
            "-1 |text \n",
            "-1 |text part miscellanous\n",
            "-1 |text relation party purpose\n",
            "-1 |text such provision apply\n",
            "-1 |text payment early termination purpose section\n",
            "-1 |text other document deliver\n",
            "-1 |text request\n",
            "-1 |text guarantee issue kingdom england\n",
            "-1 |text finance department\n",
            "-1 |text 911521\n",
            "-1 |text multibranch purpose section 10c\n",
            "-1 |text section 5avi applicable\n",
            "-1 |text section 5av applicable\n",
            "-1 |text section 5avi applicable\n",
            "-1 |text rating issue maintain standard poor successor moody investor service inc successor moody rating agency substitute agreement party party substitute agency respect longterm unsecured unsubordinate debt security debt security case more one rating same rating agency rating such debt security party case party affect party kingdom england case party affect party below revise downward case case moody respective equivalent rating issue substitute agency moody substitute agency cease rate debt security party case party affect party kingdom england case party affect party\n",
            "-1 |text tax form document certificate deliver\n",
            "-1 |text party party\n",
            "-1 |text attention\n",
            "-1 |text party multibranch party\n",
            "-1 |text schedule\n",
            "-1 |text date december 2004\n",
            "-1 |text section 5biv not applicable\n",
            "-1 |text specify transaction have meaning specify section\n",
            "-1 |text party payee representation purpose section agreement party make representation\n",
            "-1 |text transaction conclude new york branch party party deliver party promptly request party duly complete execute united states internal revenue service forms w8ben w8eci w8exp applicable\n",
            "-1 |text certify copy corporate authorisation other document respect execution delivery performance agreement reasonably request together certificate authority specimen signature person execute agreement execution delivery agreement\n",
            "-1 |text part\n",
            "-1 |text 92920 paris defense cedex\n",
            "-1 |text purpose confirmation respect commodity transaction\n",
            "-1 |text facsimile 7214 6557\n",
            "-1 |text telephone\n",
            "-1 |text party multibranch party act paris head office london new york offices\n",
            "-1 |text credit support document party none party none\n",
            "-1 |text credit support provider party none party none\n",
            "-1 |text part\n",
            "-1 |text otherwise specify confirmation agreement incorporate subject 2000 isda definition publish international swaps derivative association inc isda definition amend restate time time event inconsistency provision agreement isda definition agreement prevail\n",
            "-1 |text cross default provision section 5avi apply party party\n",
            "-1 |text purpose section agreement party agree deliver follow document applicable\n",
            "-1 |text relation confirm term condition transaction otherwise specify relevant confirmation\n",
            "-1 |text telephone 7214 6938\n",
            "-1 |text facsimile\n",
            "-1 |text telephone\n",
            "-1 |text adaptive lane 2010\n",
            "-1 |text attention finance department\n",
            "-1 |text otherwise agree writing party\n",
            "-1 |text consent recording party consent recording telephone conversation trading marketing personnel party connection agreement transaction hereunder submission such recordings evidence proceedings agree obtain necessary consent give notice such recording such personnel\n",
            "-1 |text adaptivelending party\n",
            "-1 |text section 5bv applicable\n",
            "-1 |text miscellaneous\n",
            "-1 |text telex 669600f\n",
            "-1 |text attn manager derivative product group\n",
            "-1 |text swift crlrgb2l\n",
            "-1 |text answerback credw\n",
            "-1 |text address adaptivelending\n",
            "-1 |text multibranch party purpose section 10c agreement\n",
            "-1 |text give notice other party setoff effect section\n",
            "-1 |text calyon party limited liability company incorporate france société anonyme\n",
            "-1 |text relation party purpose\n",
            "-1 |text section 5biv not applicable\n",
            "1 |text termination currency mean defaulting party only one affect party freely available currency applicable one terminate transaction select other party two affect party freely available currency applicable one terminate transaction agree party such agreement reach two business day early termination date united states dollar\n",
            "1 |text purpose subsection business day mean day commercial bank open business include dealing foreign exchange foreign currency deposit london london\n",
            "-1 |text execution agreement\n",
            "-1 |text new york office\n",
            "-1 |text usa\n",
            "-1 |text definition\n",
            "-1 |text status party act fiduciary capacity adviser other party respect such transaction\n",
            "-1 |text for set amount early termination amount payable one party payee other party payer section circumstance where defaulting party one affect party case where termination event section 5biv occur option party other defaulting party affect party prior notice defaulting party affect party reduce set other amounts other agreement amount payable such time future occurrence contingency payee payer irrespective currency place payment booking office obligation arise agreement other agreements payee payer instruments undertakings issue execute one party favour other party other agreement amount discharge promptly respects extent set\n",
            "-1 |text transfer term section agreement party prior write consent party assign rights obligation agreement majorityown subsidiary affiliate provide exist credit support document remain place party remains liable obligation such majorityown subsidiary such affiliate pursuant additional credit support document such assignment party fully release obligation party other pursuant such credit support document\n",
            "-1 |text section 5av not applicable\n",
            "-1 |text copy relevant page party signature book evidence authority specimen signature officer party execute agreement\n",
            "-1 |text promptly request party\n",
            "-1 |text attention vanilla derivative\n",
            "-1 |text other notice communication\n",
            "-1 |text line business enter agreement include transaction evidence hereby conjunction line business include financial intermediation service financing business\n",
            "-1 |text section 5avii not applicable\n",
            "-1 |text second method apply\n",
            "-1 |text party payee representation purpose section agreement party make representation\n",
            "-1 |text london ec2a 2da\n",
            "-1 |text purpose confirmation respect other transaction\n",
            "-1 |text facsimile 7214 6825\n",
            "-1 |text telephone 7214 5192\n",
            "-1 |text swift crlygb2l\n",
            "-1 |text process agent purpose section 13c agreement party calyon london barnch broadwalk house appold street london ec2a 2da\n",
            "-1 |text offices provision section 10a apply agreement respect offices specify part schedule\n",
            "-1 |text party multibranch party\n",
            "-1 |text netting payment subparagraph section agreement apply effect day party notify other writing wish payment net multiple transaction provide however such election specify apply transaction separately transaction transaction currency option transaction involve calculation base price commodity equity security such transaction separate group transaction state branch such election apply\n",
            "-1 |text agreement confirmation credit support document other agreement contemplate thereby maintain continuously date execution thereof party official record party\n",
            "-1 |text severability provision agreement prohibit unenforceable jurisdiction such jurisdiction ineffective extent such prohibition unenforceability invalidate remain provision agreement affect validity enforceability such provision other jurisdiction party endeavour good faith negotiation replace prohibit unenforceable provision valid provision economic effect come close possible prohibit unenforceable provision\n",
            "-1 |text 1998 isda currency option definition reference hereby make 1998 isda currency option definition definition annex thereto publish isda emerging markets traders association emta foreign exchange committee amend time time modify below hereby incorporate reference herein term use not otherwise define agreement confirmation evidence transaction currency option contain definition have meaning set forth therein notwithstand herein contain contrary exist future transaction currency option transaction party deem transaction currency option transaction appropriate writing evidence such transaction deem confirmation such writing specifically state contrary\n",
            "-1 |text section 5avii not applicable\n",
            "-1 |text opinion house counsel party form attach annex execution delivery agreement\n",
            "-1 |text such other information respect party condition operation financial otherwise party reasonably request time time\n",
            "-1 |text address notice purpose section 12a agreement notice communication party respect transaction send address relevant office set forth below specify relevant confirmation otherwise notify party party addition copy notice communication give party pursuant section agreement send quai president paul doumer 92920 paris defense cedex france attn risk management control division\n",
            "-1 |text facsimile\n",
            "-1 |text attention manager exotic derivative\n",
            "-1 |text 1301 avenue americas\n",
            "-1 |text capacity have full corporate authority undertake such transaction\n",
            "-1 |text threshold amount mean 000 000 twentyfive million united states dollar equivalent thereof other currency currency composite currency currency respect party usd 000 000 twentyfive million united states dollar equivalent thereof other currency currency composite currency currency respect party\n",
            "-1 |text payer representation purpose section agreement party make follow representation\n",
            "-1 |text other document deliver\n",
            "-1 |text attention legal department\n",
            "-1 |text box 1120\n",
            "-1 |text calculation agent calculation agent party\n",
            "-1 |text agreement\n",
            "-1 |text copy most recently available annual report contain audit financial statement most recently end fiscal year certified independent public accountant fairly present financial condition result operation close such fiscal year promptly request party\n",
            "-1 |text france\n",
            "-1 |text facsimile 331 4189 3946\n",
            "-1 |text new york 10019\n",
            "-1 |text mail adaptivelending com\n",
            "-1 |text scope agreement notwithstand contain agreement contrary transaction otherwise constitute specify transaction purpose agreement enter party constitute transaction subject govern construe accordance term agreement when party expressly agree provision apply\n",
            "-1 |text otherwise specify herein confirmation substantially form one confirmation attach exhibit definition definition publish isda such other form party agree\n",
            "-1 |text iii evaluation understanding capable evaluate understanding transaction own behalf assistance independent professional advice understand accept term condition risk such transaction\n",
            "-1 |text part\n",
            "-1 |text require applicable law modify practice relevant governmental revenue authority relevant jurisdiction make deduction withholding account tax payment other interest section 6dii agreement make other party agreement make representation rely accuracy representation make other party pursuant section agreement satisfaction requirement section 4aiii agreement accuracy effectiveness document provide other party pursuant section 4aiii agreement iii satisfaction agreement other party contain section agreement provide breach representation where reliance place clause other party deliver form document section 4aiii reason material prejudice legal commercial position\n",
            "-1 |text london office\n",
            "-1 |text section agreement hereby further modify insert follow sub section end thereof\n",
            "-1 |text old agreement party previously enter isda master agreement old agreement date december 1998 otherwise specify confirmation transaction govern old agreement\n",
            "-1 |text additional termination event respect party party rating issue maintain standard poor credit market service successor moody investor service inc successor moody rating agency substitute one respect longterm unsecured unsubordinated debt security debt security case more one rating same rating agency rating such debt security party party case party party case affect party below revise downward case case moody respective equivalent rating issue substitute agency moody substitute agency cease rate debt security party party case party party case affect party\n",
            "-1 |text party deliver party promptly request party duly complete execute united states internal revenue service forms w8ben w8eci w8exp applicable\n",
            "-1 |text paris office\n",
            "-1 |text telex 8950831 clr\n",
            "-1 |text telex 62410\n",
            "-1 |text obligation unascertained good faith estimate obligation setoff respect estimate subject relevant party accounting other when obligation ascertain\n",
            "-1 |text section effective create charge other security interest section prejudice addition rights setoff combination account lien other right party time otherwise entitle operation law contract otherwise\n",
            "-1 |text termination provision\n",
            "-1 |text market quotation apply\n",
            "-1 |text part\n",
            "-1 |text attention swap back office\n",
            "-1 |text affiliate affiliate have meaning specify section agreement\n",
            "-1 |text other provision\n",
            "-1 |text agency enter agreement transaction principal agent other capacity fiduciary otherwise\n",
            "-1 |text part\n",
            "-1 |text specify entity mean relation party purpose\n",
            "-1 |text section 5avi not applicable\n",
            "-1 |text section 5avi not applicable\n",
            "-1 |text credit event merger provision section 5biv apply party\n",
            "-1 |text tax form document certificate deliver document describe section 4aiii include limit\n",
            "-1 |text thereafter promptly follow request party evidence authority specimen signature person execute confirmation behalf party\n",
            "-1 |text iii document refer part cover representation set forth section\n",
            "-1 |text broadwalk house\n",
            "-1 |text appold street\n",
            "-1 |text confirmation\n",
            "-1 |text representation\n",
            "-1 |text relationship party\n",
            "-1 |text non reliance act own account make own independent decision reliance own judgement advice such advisor deem necessary enter such transaction such transaction suitable appropriate requirement circumstance rely content communication write oral other party investment advice recommendation enter such transaction avoidance doubt information explanation related term condition transaction consider investment advice recommendation enter such transaction receive other party assurance guarantee result expect conclude such transaction\n",
            "-1 |text between\n",
            "-1 |text section 5bv applicable\n",
            "-1 |text specify indebtedness have meaning specify section provide however respect party specify indebtedness include deposit receive ordinary course party business\n",
            "-1 |text automatic early termination provision section apply party apply party\n",
            "-1 |text payment early termination purpose agreement\n",
            "-1 |text additional termination event apply\n",
            "-1 |text party deliver follow document party date set forth delivery thereof\n",
            "-1 |text copy party most recently available annual report contain consolidate financial statement most recently end fiscal year certified independent public accountant fairly present financial condition party consolidate subsidiary close such fiscal year\n",
            "-1 |text england\n",
            "-1 |text answerback insu\n",
            "-1 |text facsimile 7214 7007\n",
            "-1 |text telephone 7214 6433\n",
            "-1 |text facsimile 212 459 3167\n",
            "-1 |text address notice communication party\n",
            "-1 |text 1009 london\n",
            "-1 |text section 5av not applicable\n",
            "-1 |text downgrade\n",
            "-1 |text party deliver follow document party date set forth delivery thereof\n",
            "-1 |text quai president paul doumer\n",
            "-1 |text attention head derivative back office\n",
            "-1 |text facsimile\n",
            "-1 |text party appoint process agent england excellency ambassador england court james sloane street london sw1\n",
            "-1 |text section agreement hereby amend addition follow new subsection\n",
            "-1 |text purpose early termination amount other agreement amount relevant portion such amount converted currency other denominate rate exchange such party able act reasonable manner good faith purchase relevant amount such currency\n",
            "-1 |text master agreement\n"
          ]
        }
      ]
    },
    {
      "cell_type": "code",
      "source": [
        "!vw -i model2.vw -t -d /content/combined_names_newest_test.vw -p final.txt \n"
      ],
      "metadata": {
        "colab": {
          "base_uri": "https://localhost:8080/"
        },
        "id": "QinnX7WZqrNh",
        "outputId": "68e38b3f-8849-4182-a4fc-552c821f73b5"
      },
      "execution_count": 104,
      "outputs": [
        {
          "output_type": "stream",
          "name": "stdout",
          "text": [
            "only testing\n",
            "predictions = final.txt\n",
            "Num weight bits = 18\n",
            "learning rate = 0.5\n",
            "initial_t = 0\n",
            "power_t = 0.5\n",
            "using no cache\n",
            "Reading datafile = /content/combined_names_newest_test.vw\n",
            "num sources = 1\n",
            "average  since         example        example  current  current  current\n",
            "loss     last          counter         weight    label  predict features\n",
            "106.418480 106.418480            1            1.0  -1.0000 -11.3159       10\n",
            "105.981236 105.543991            2            2.0  -1.0000 -11.2735       11\n",
            "79.350600 52.719964            4            4.0  -1.0000 -10.4887        4\n",
            "73.778350 68.206101            8            8.0  -1.0000  -4.2905        1\n",
            "56.419221 39.060091           16           16.0  -1.0000  -4.5714        2\n",
            "49.318188 42.217155           32           32.0  -1.0000  -7.6205        3\n",
            "66.830224 84.342260           64           64.0  -1.0000  -8.6956        8\n",
            "101.899987 136.969750          128          128.0  -1.0000   1.5449       39\n",
            "108.913956 115.927925          256          256.0  -1.0000 -12.8198       23\n",
            "122.998699 137.083442          512          512.0  -1.0000  -8.8776        7\n",
            "141.016189 159.033680         1024         1024.0  -1.0000 -10.6032       11\n",
            "141.310071 141.603954         2048         2048.0  -1.0000 -39.5942       97\n",
            "151.350477 161.390882         4096         4096.0  -1.0000 -50.0000      117\n",
            "\n",
            "finished run\n",
            "number of examples per pass = 5416\n",
            "passes used = 1\n",
            "weighted example sum = 5416.000000\n",
            "weighted label sum = -5338.000000\n",
            "average loss = 147.550781\n",
            "best constant = -0.985598\n",
            "best constant's loss = 0.028596\n",
            "total feature number = 64638\n"
          ]
        }
      ]
    },
    {
      "cell_type": "code",
      "source": [
        "with open('final.txt') as pred_file:\n",
        "     valid_prediction = [float(label) for label in pred_file.readlines()]\n",
        "     print(\"Accuracy: {}\".format(round(accuracy_score(y_test, [int(pred_prob > 0) for pred_prob in valid_prediction]), 5)))\n",
        "     print(\"AUC: {}\".format(round(roc_auc_score(y_test, valid_prediction), 5)))\n"
      ],
      "metadata": {
        "colab": {
          "base_uri": "https://localhost:8080/"
        },
        "id": "ZzvjITeHthav",
        "outputId": "7d0b03ed-5244-4522-ac0e-d9dc78341eb9"
      },
      "execution_count": 107,
      "outputs": [
        {
          "output_type": "stream",
          "name": "stdout",
          "text": [
            "Accuracy: 0.99649\n",
            "AUC: 0.97943\n"
          ]
        }
      ]
    },
    {
      "cell_type": "markdown",
      "source": [
        "Accuracy: 0.99649\n",
        "AUC: 0.97943 \n",
        "on core_lemma_text"
      ],
      "metadata": {
        "id": "pyO9PFmO80jx"
      }
    },
    {
      "cell_type": "code",
      "source": [
        ""
      ],
      "metadata": {
        "id": "ocUF5V168-es"
      },
      "execution_count": null,
      "outputs": []
    }
  ]
}