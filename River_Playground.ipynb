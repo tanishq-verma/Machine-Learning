{
  "cells": [
    {
      "cell_type": "code",
      "execution_count": 17,
      "metadata": {
        "colab": {
          "base_uri": "https://localhost:8080/"
        },
        "id": "4344TN0h73v0",
        "outputId": "247f479a-c1c5-4ca3-bdc3-e008aa3fdb8f"
      },
      "outputs": [
        {
          "output_type": "stream",
          "name": "stdout",
          "text": [
            "Looking in indexes: https://pypi.org/simple, https://us-python.pkg.dev/colab-wheels/public/simple/\n",
            "Requirement already satisfied: river in /usr/local/lib/python3.7/dist-packages (0.10.1)\n",
            "Requirement already satisfied: scipy>=1.4.1 in /usr/local/lib/python3.7/dist-packages (from river) (1.4.1)\n",
            "Requirement already satisfied: numpy>=1.20.0 in /usr/local/lib/python3.7/dist-packages (from river) (1.21.6)\n",
            "Requirement already satisfied: pandas>=1.0.1 in /usr/local/lib/python3.7/dist-packages (from river) (1.3.5)\n",
            "Requirement already satisfied: pytz>=2017.3 in /usr/local/lib/python3.7/dist-packages (from pandas>=1.0.1->river) (2022.1)\n",
            "Requirement already satisfied: python-dateutil>=2.7.3 in /usr/local/lib/python3.7/dist-packages (from pandas>=1.0.1->river) (2.8.2)\n",
            "Requirement already satisfied: six>=1.5 in /usr/local/lib/python3.7/dist-packages (from python-dateutil>=2.7.3->pandas>=1.0.1->river) (1.15.0)\n",
            "Looking in indexes: https://pypi.org/simple, https://us-python.pkg.dev/colab-wheels/public/simple/\n",
            "Requirement already satisfied: pandas in /usr/local/lib/python3.7/dist-packages (1.3.5)\n",
            "Requirement already satisfied: pytz>=2017.3 in /usr/local/lib/python3.7/dist-packages (from pandas) (2022.1)\n",
            "Requirement already satisfied: numpy>=1.17.3 in /usr/local/lib/python3.7/dist-packages (from pandas) (1.21.6)\n",
            "Requirement already satisfied: python-dateutil>=2.7.3 in /usr/local/lib/python3.7/dist-packages (from pandas) (2.8.2)\n",
            "Requirement already satisfied: six>=1.5 in /usr/local/lib/python3.7/dist-packages (from python-dateutil>=2.7.3->pandas) (1.15.0)\n",
            "Looking in indexes: https://pypi.org/simple, https://us-python.pkg.dev/colab-wheels/public/simple/\n",
            "Requirement already satisfied: vowpalwabbit in /usr/local/lib/python3.7/dist-packages (9.1.0)\n"
          ]
        }
      ],
      "source": [
        "!pip install river\n",
        "!pip install pandas\n",
        "!pip install vowpalwabbit\n"
      ]
    },
    {
      "cell_type": "code",
      "execution_count": 45,
      "metadata": {
        "id": "bIgIefFy8B_M"
      },
      "outputs": [],
      "source": [
        "import river\n",
        "import json\n",
        "import datetime\n",
        "import pandas as pd\n",
        "import tokenize\n",
        "import vowpalwabbit"
      ]
    },
    {
      "cell_type": "code",
      "execution_count": 19,
      "metadata": {
        "id": "NmTY7eqJ-5tO"
      },
      "outputs": [],
      "source": [
        "# Imports to make the notebook experience nicer\n",
        "import pprint"
      ]
    },
    {
      "cell_type": "markdown",
      "metadata": {
        "id": "HQm3Ze0z8aDU"
      },
      "source": [
        "# Read Sample Data"
      ]
    },
    {
      "cell_type": "code",
      "execution_count": 22,
      "metadata": {
        "colab": {
          "base_uri": "https://localhost:8080/"
        },
        "id": "vEtWMA968VnF",
        "outputId": "35e64b25-875b-4882-fe58-0ddf176f0e8a"
      },
      "outputs": [
        {
          "output_type": "stream",
          "name": "stdout",
          "text": [
            "file load: 0:00:02.584920\n"
          ]
        }
      ],
      "source": [
        "# NON-PANDAS\n",
        "read_start = datetime.datetime.now()\n",
        "\n",
        "with open('combined_names_newest.json') as f:\n",
        "    dataset = json.load(f)\n",
        "\n",
        "# NB: this is getting all used pt_ids, also reformatting in something more like what we might use\n",
        "pts = set()\n",
        "for item in dataset:\n",
        "    item_pts = []\n",
        "    # NB: this replaces the provision_type_ids list;\n",
        "    # the file has it as a list of strings like this: \"label-true/false\"\n",
        "    # we reformat the list so it is a list of tuples: ['label', bool]\n",
        "    for label in item['labels']['provision_type_ids']:\n",
        "        l = label.rsplit('-', 1)\n",
        "        if l[1] == 'true':\n",
        "            l[1] = True\n",
        "        else:\n",
        "            l[1] = False\n",
        "        pts.add(l[0])\n",
        "        item_pts.append(l)\n",
        "        # if l[0] == 'Governing Law':\n",
        "        #     pts.add(l[0])\n",
        "        #     item_pts.append(l)\n",
        "    item['labels']['provision_type_ids'] = item_pts\n",
        "\n",
        "\n",
        "read_end = datetime.datetime.now()\n",
        "print('file load:', (read_end - read_start))\n",
        "\n"
      ]
    },
    {
      "cell_type": "code",
      "source": [
        "# PANDAS-FRIENDLY\n",
        "read_start = datetime.datetime.now()\n",
        "\n",
        "with open('combined_names_newest.json') as f:\n",
        "    dataset = json.load(f)\n",
        "\n",
        "# NB: this is getting all used pt_ids, also reformatting in something more like what we might use\n",
        "pts = set()\n",
        "for item in dataset:\n",
        "    item_pts = {}\n",
        "    # NB: this replaces the provision_type_ids list;\n",
        "    # the file has it as a list of strings like this: \"label-true/false\"\n",
        "    # we reformat the list so it is a list of tuples: ['label', bool]\n",
        "    for label in item['labels']['provision_type_ids']:\n",
        "        l = label.rsplit('-', 1)\n",
        "        if l[1] == 'true':\n",
        "            l[1] = True\n",
        "        else:\n",
        "            l[1] = False\n",
        "        pts.add(l[0])\n",
        "        item_pts[l[0]] = l[1]\n",
        "        # if l[0] == 'Governing Law':\n",
        "        #     pts.add(l[0])\n",
        "        #     item_pts.append(l)\n",
        "    item['labels']['provision_type_ids'] = item_pts\n",
        "\n",
        "\n",
        "read_end = datetime.datetime.now()\n",
        "print('file load:', (read_end - read_start))\n",
        "\n",
        "print(dataset[0])"
      ],
      "metadata": {
        "colab": {
          "base_uri": "https://localhost:8080/"
        },
        "id": "A0pF7SLlXck9",
        "outputId": "0ffec79d-2653-415a-ac61-adb729e44bc8"
      },
      "execution_count": 5,
      "outputs": [
        {
          "output_type": "stream",
          "name": "stdout",
          "text": [
            "file load: 0:00:01.432386\n",
            "{'id': 's6avtdg0pl_QbjGMOcU1', 'features': {'core_lemma_text': 'i Delivery amount return amount credit support amount', 'compounded_core_lemma_text': 'i Deliveryamount returnamount creditsupportamount'}, 'labels': {'provision_type_ids': {'CSA Delivery Amount, Return Amount, and Credit Support Amount': True, 'CSA Credit Support Obligations': True, 'CSA Paragraph 11/13': True, 'CSA Eligible Credit Support / Collateral': False, 'CSA Resolution Time': False, 'CSA Dispute Resolution': False, 'CSA Demands and Notices': False, 'CSA Other Provisions': False, 'CSA Valuation Time': False, 'CSA Valuation and Timing': False, 'CSA Exchange Date': False, 'Addresses for Transfers': False, 'CSA Threshold': False, 'CSA Thresholds': False, 'CSA Minimum Transfer Amount': False, 'CSA Credit Support Amount': False, 'CSA Value': False, 'CSA Return Amount': False, 'CSA Base Currency and Eligible Currency': False, 'CSA Delivery Amount': False, 'CSA Valuation Agent': False, 'CSA Valuation Date': False, 'CSA Notification Time': False, 'CSA Independent Amount': False, 'CSA Rounding': False, 'CSA Alternative': False, 'Scope of Collateralisation': False, 'CSA Distributions and Interest Amount': False, 'Other Provisions': False, 'CSA Substitution': False, 'CSA Alternative to Interest Amount': False, 'CSA Transfer of Interest Amount': False, 'CSA Interest Rate': False, 'CSA Additional Representation(s)': False, 'Preamble': False, 'ISDA Termination Provisions': False, 'ISDA Specified Entity': False, 'Cross-Default': False, 'ISDA Credit Event Upon Merger': False, 'ISDA Payments on Early Termination': False, 'ISDA Tax Representations': False, 'ISDA Payer Representations': False, 'ISDA Agreement to Deliver Documents': False, 'ISDA Miscellaneous': False, 'Address for Notices': False, 'ISDA Credit Support Document': False, 'ISDA Threshold Amount': False, 'ISDA Additional Termination Event': False, 'ISDA Payee Representations': False, 'Process Agent': False, 'ISDA Netting of Payments': False, 'ISDA Credit Support Provider': False, 'Governing Law': False, 'No Agency': False, 'ISDA Specified Indebtedness': False, 'ISDA Automatic Early Termination': False, 'ISDA Offices': False, 'ISDA Calculation Agent': False, 'ISDA Affiliate': False, 'Set-Off': False, 'ISDA Additional Representation': False, 'ISDA Multibranch Party': False, 'ISDA Specified Transaction': False, 'ISDA Termination Currency': False, 'Recording of Conversations': False, 'Relationship Between Parties': False, 'ISDA Absence of Litigation': False, 'Failure to Pay or Deliver': False, 'Scope of Agreement': False, 'Export of Defaults': False}}}\n"
          ]
        }
      ]
    },
    {
      "cell_type": "code",
      "source": [
        "test_dataset = dataset[-10:]\n",
        "\n",
        "normalized = pd.json_normalize(test_dataset)\n",
        "#pprint.pprint(normalized)\n",
        "# # create a list of strings\n",
        "columns = ['id', 'features.core_lemma_text', 'labels.provision_type_ids[\"CSA Delivery Amount, Return Amount, and Credit Support Amount\"]']\n",
        "\n",
        "\n",
        "# # Passing a dictionary\n",
        "# # key: column name\n",
        "# # value: series of values\n",
        "df = pd.DataFrame(normalized)\n",
        "#print(df)\n",
        "#new_series = df.squeeze()\n",
        "#print(new_series)\n",
        "\n",
        "ser = pd.Series(df['features.core_lemma_text'],index=df[\"id\"])\n",
        "pprint.pprint(ser)"
      ],
      "metadata": {
        "colab": {
          "base_uri": "https://localhost:8080/"
        },
        "id": "bwE7CryZYMFo",
        "outputId": "e8fc800c-9f8a-4ef6-dfad-09adccb76593"
      },
      "execution_count": 21,
      "outputs": [
        {
          "output_type": "stream",
          "name": "stdout",
          "text": [
            "id\n",
            "v2Oh0IETww3WAd2-tiwF    NaN\n",
            "q36Vd5XFPTk2S8gHHPoi    NaN\n",
            "j8E7ZSgG7qqEvjIrNHk_    NaN\n",
            "p9TpwUaWXTvrqd1y-vHG    NaN\n",
            "r9T4zjsW5Rcw3OttNaVb    NaN\n",
            "f8oRo6v1THrrT7WBhMSA    NaN\n",
            "y1h5Av4u-dqNs5Ijd9BA    NaN\n",
            "o4LyYnXaqwb1UMC8Fb4c    NaN\n",
            "v2-IBGNEmOqs6NNyIbxU    NaN\n",
            "d1HbEkbM6zwPUB6mhW0G    NaN\n",
            "Name: features.core_lemma_text, dtype: object\n"
          ]
        }
      ]
    },
    {
      "cell_type": "markdown",
      "source": [
        "# Overrides"
      ],
      "metadata": {
        "id": "g0gjth9QUdCJ"
      }
    },
    {
      "cell_type": "code",
      "source": [
        "feature_given_class_time = datetime.timedelta()\n",
        "feature_given_class_count = 0\n",
        "class ARGaussianNB(river.naive_bayes.GaussianNB):\n",
        "\n",
        "    def p_feature_given_class(self, f: str, c: str) -> float:\n",
        "        global feature_given_class_count\n",
        "        #global feature_given_class_time\n",
        "        #start_time = datetime.datetime.now()\n",
        "        response = river.naive_bayes.GaussianNB.p_feature_given_class(self, f, c)\n",
        "        #end_time = datetime.datetime.now()\n",
        "        #feature_given_class_time += end_time - start_time\n",
        "        feature_given_class_count += 1\n",
        "        return response\n",
        "        # feat_dict = self.feature_counts[f]\n",
        "        # feat_count = feat_dict[c]\n",
        "        # num = feat_count + self.alpha\n",
        "        # #num = self.feature_counts.get(f, {}).get(c, 0.0) + self.alpha\n",
        "        # den = self.class_counts[c] + self.alpha * 2\n",
        "        # return num / den"
      ],
      "metadata": {
        "id": "CKr9MJuWUfoG"
      },
      "execution_count": 50,
      "outputs": []
    },
    {
      "cell_type": "markdown",
      "metadata": {
        "id": "HkUkCYpa9HH7"
      },
      "source": [
        "# Learn"
      ]
    },
    {
      "cell_type": "code",
      "execution_count": 38,
      "metadata": {
        "id": "mk-qBHFU9Ixa"
      },
      "outputs": [],
      "source": [
        "# Decide how much to learn on -- we learn *up to* the slice_point\n",
        "slice_point = len(dataset) - int(len(dataset) / 4)"
      ]
    },
    {
      "cell_type": "code",
      "execution_count": 39,
      "metadata": {
        "id": "36mYs_VN94_S"
      },
      "outputs": [],
      "source": [
        "# Set up transformers and estimators\n",
        "transformers = [river.feature_extraction.BagOfWords(on='compounded_core_lemma_text', lowercase=False,)]\n",
        "#transformers = [river.feature_extraction.TFIDF(on='compounded_core_lemma_text', lowercase=True, ngram_range=(1,1))]\n",
        "\n",
        "estimators = {}\n",
        "for pt in pts:\n",
        "    estimators[pt] = ARGaussianNB()"
      ]
    },
    {
      "cell_type": "code",
      "execution_count": 40,
      "metadata": {
        "colab": {
          "base_uri": "https://localhost:8080/"
        },
        "id": "9kBE9yP-M9Im",
        "outputId": "68f65c53-661b-4174-af2f-d561a0046d90"
      },
      "outputs": [
        {
          "output_type": "stream",
          "name": "stdout",
          "text": [
            "70\n"
          ]
        }
      ],
      "source": [
        "print(len(estimators))"
      ]
    },
    {
      "cell_type": "code",
      "execution_count": 41,
      "metadata": {
        "colab": {
          "base_uri": "https://localhost:8080/"
        },
        "id": "mDRnUyEK9161",
        "outputId": "4cf447cc-2d9f-4bc2-fd48-42569bc7cbdb"
      },
      "outputs": [
        {
          "output_type": "stream",
          "name": "stdout",
          "text": [
            "learning: 0:00:23.482656\n"
          ]
        }
      ],
      "source": [
        "# Learn\n",
        "learn_start = datetime.datetime.now()\n",
        "\n",
        "\n",
        "\n",
        "for item in dataset[:slice_point]:\n",
        "    #transformed = transformers[0].transform_one(item['features'])\n",
        "    transformers[0] = transformers[0].learn_one(item['features'])\n",
        "    transformed = transformers[0].transform_one(item['features'])\n",
        "    for label in item['labels']['provision_type_ids']:\n",
        "      estimators[label[0]] = estimators[label[0]].learn_one(transformed, label[1])\n",
        "\n",
        "learn_end = datetime.datetime.now()\n",
        "print('learning:', (learn_end - learn_start))"
      ]
    },
    {
      "cell_type": "markdown",
      "metadata": {
        "id": "_kJjDacU-Y5f"
      },
      "source": [
        "# Predict"
      ]
    },
    {
      "cell_type": "code",
      "source": [
        "# TODO: convert dataset[:slice_point] into a pandas dataframe, and try learn_many on it for Bernoulli.\n",
        "# See if there is a performance difference.\n",
        "pred_dataset = dataset[-10:]\n",
        "series_data = {}\n",
        "for item in pred_dataset:\n",
        "    series_data[item['id']] = item['features']['core_lemma_text']\n",
        "\n",
        "real_series = pd.Series(series_data)\n",
        "\n",
        "\n",
        "# normalized = pd.json_normalize(pred_dataset)\n",
        "# #pprint.pprint(normalized)\n",
        "# # # create a list of strings\n",
        "# columns = ['id', 'features.core_lemma_text']\n",
        "\n",
        "\n",
        "# # # Passing a dictionary\n",
        "# # # key: column name\n",
        "# # # value: series of values\n",
        "# df = pd.DataFrame(normalized, columns=columns)\n",
        "# new_series = df.squeeze()\n",
        "# pprint.pprint(new_series)\n",
        "\n",
        "# ser = pd.Series(data=new_series['features.core_lemma_text'], index=new_series['id'])\n",
        "# pprint.pprint(ser)\n",
        "\n",
        "# # unseen = pd.Series([\"Taiwanese Taipei\", \"Chinese Shanghai\"])\n",
        "# # pprint.pprint(unseen)\n",
        "\n",
        "predict_start = datetime.datetime.now()\n",
        "\n",
        "preds = []\n",
        "test_transformer = river.feature_extraction.BagOfWords(lowercase=False)\n",
        "transformed = test_transformer.transform_many(X=real_series)\n",
        "#transformed = transformers[0].transform_many(X=unseen)\n",
        "for estimator in estimators:\n",
        "    #pipeline = transformers[0] | estimators[estimator]\n",
        "    #pred = pipeline.predict_proba_many(ser)\n",
        "    pred = estimators[estimator].predict_proba_many(transformed)\n",
        "    preds.append(pred)\n",
        "\n",
        "predict_end = datetime.datetime.now()\n",
        "print('predict time:', (predict_end - predict_start))\n",
        "#print('feature_given_class time:', feature_given_class_time)\n",
        "print('feature_given_class_count:', feature_given_class_count)\n",
        "#pprint.pprint(preds)"
      ],
      "metadata": {
        "colab": {
          "base_uri": "https://localhost:8080/",
          "height": 429
        },
        "id": "KHl2i1VPeLns",
        "outputId": "6a5b09d2-f572-4305-d34b-20a736b06ffc"
      },
      "execution_count": 28,
      "outputs": [
        {
          "output_type": "stream",
          "name": "stderr",
          "text": [
            "/usr/local/lib/python3.7/dist-packages/pandas/core/frame.py:3645: PerformanceWarning: DataFrame is highly fragmented.  This is usually the result of calling `frame.insert` many times, which has poor performance.  Consider joining all columns at once using pd.concat(axis=1) instead.  To get a de-fragmented frame, use `newframe = frame.copy()`\n",
            "  self[col] = value\n"
          ]
        },
        {
          "output_type": "error",
          "ename": "KeyboardInterrupt",
          "evalue": "ignored",
          "traceback": [
            "\u001b[0;31m---------------------------------------------------------------------------\u001b[0m",
            "\u001b[0;31mKeyboardInterrupt\u001b[0m                         Traceback (most recent call last)",
            "\u001b[0;32m<ipython-input-28-291d4787721c>\u001b[0m in \u001b[0;36m<module>\u001b[0;34m()\u001b[0m\n\u001b[1;32m     37\u001b[0m     \u001b[0;31m#pipeline = transformers[0] | estimators[estimator]\u001b[0m\u001b[0;34m\u001b[0m\u001b[0;34m\u001b[0m\u001b[0;34m\u001b[0m\u001b[0m\n\u001b[1;32m     38\u001b[0m     \u001b[0;31m#pred = pipeline.predict_proba_many(ser)\u001b[0m\u001b[0;34m\u001b[0m\u001b[0;34m\u001b[0m\u001b[0;34m\u001b[0m\u001b[0m\n\u001b[0;32m---> 39\u001b[0;31m     \u001b[0mpred\u001b[0m \u001b[0;34m=\u001b[0m \u001b[0mestimators\u001b[0m\u001b[0;34m[\u001b[0m\u001b[0mestimator\u001b[0m\u001b[0;34m]\u001b[0m\u001b[0;34m.\u001b[0m\u001b[0mpredict_proba_many\u001b[0m\u001b[0;34m(\u001b[0m\u001b[0mtransformed\u001b[0m\u001b[0;34m)\u001b[0m\u001b[0;34m\u001b[0m\u001b[0;34m\u001b[0m\u001b[0m\n\u001b[0m\u001b[1;32m     40\u001b[0m     \u001b[0mpreds\u001b[0m\u001b[0;34m.\u001b[0m\u001b[0mappend\u001b[0m\u001b[0;34m(\u001b[0m\u001b[0mpred\u001b[0m\u001b[0;34m)\u001b[0m\u001b[0;34m\u001b[0m\u001b[0;34m\u001b[0m\u001b[0m\n\u001b[1;32m     41\u001b[0m \u001b[0;34m\u001b[0m\u001b[0m\n",
            "\u001b[0;32m/usr/local/lib/python3.7/dist-packages/river/naive_bayes/base.py\u001b[0m in \u001b[0;36mpredict_proba_many\u001b[0;34m(self, X)\u001b[0m\n\u001b[1;32m     38\u001b[0m     \u001b[0;32mdef\u001b[0m \u001b[0mpredict_proba_many\u001b[0m\u001b[0;34m(\u001b[0m\u001b[0mself\u001b[0m\u001b[0;34m,\u001b[0m \u001b[0mX\u001b[0m\u001b[0;34m:\u001b[0m \u001b[0mpd\u001b[0m\u001b[0;34m.\u001b[0m\u001b[0mDataFrame\u001b[0m\u001b[0;34m)\u001b[0m \u001b[0;34m->\u001b[0m \u001b[0mpd\u001b[0m\u001b[0;34m.\u001b[0m\u001b[0mDataFrame\u001b[0m\u001b[0;34m:\u001b[0m\u001b[0;34m\u001b[0m\u001b[0;34m\u001b[0m\u001b[0m\n\u001b[1;32m     39\u001b[0m         \u001b[0;34m\"\"\"Return probabilities using the log-likelihoods in mini-batchs setting.\"\"\"\u001b[0m\u001b[0;34m\u001b[0m\u001b[0;34m\u001b[0m\u001b[0m\n\u001b[0;32m---> 40\u001b[0;31m         \u001b[0mjll\u001b[0m \u001b[0;34m=\u001b[0m \u001b[0mself\u001b[0m\u001b[0;34m.\u001b[0m\u001b[0mjoint_log_likelihood_many\u001b[0m\u001b[0;34m(\u001b[0m\u001b[0mX\u001b[0m\u001b[0;34m)\u001b[0m\u001b[0;34m\u001b[0m\u001b[0;34m\u001b[0m\u001b[0m\n\u001b[0m\u001b[1;32m     41\u001b[0m         \u001b[0;32mif\u001b[0m \u001b[0mjll\u001b[0m\u001b[0;34m.\u001b[0m\u001b[0mempty\u001b[0m\u001b[0;34m:\u001b[0m\u001b[0;34m\u001b[0m\u001b[0;34m\u001b[0m\u001b[0m\n\u001b[1;32m     42\u001b[0m             \u001b[0;32mreturn\u001b[0m \u001b[0mjll\u001b[0m\u001b[0;34m\u001b[0m\u001b[0;34m\u001b[0m\u001b[0m\n",
            "\u001b[0;32m/usr/local/lib/python3.7/dist-packages/river/naive_bayes/bernoulli.py\u001b[0m in \u001b[0;36mjoint_log_likelihood_many\u001b[0;34m(self, X)\u001b[0m\n\u001b[1;32m    277\u001b[0m \u001b[0;34m\u001b[0m\u001b[0m\n\u001b[1;32m    278\u001b[0m         \u001b[0;32mif\u001b[0m \u001b[0mmissing\u001b[0m\u001b[0;34m:\u001b[0m\u001b[0;34m\u001b[0m\u001b[0;34m\u001b[0m\u001b[0m\n\u001b[0;32m--> 279\u001b[0;31m             \u001b[0mX\u001b[0m\u001b[0;34m[\u001b[0m\u001b[0mmissing\u001b[0m\u001b[0;34m]\u001b[0m \u001b[0;34m=\u001b[0m \u001b[0;32mFalse\u001b[0m\u001b[0;34m\u001b[0m\u001b[0;34m\u001b[0m\u001b[0m\n\u001b[0m\u001b[1;32m    280\u001b[0m \u001b[0;34m\u001b[0m\u001b[0m\n\u001b[1;32m    281\u001b[0m         \u001b[0mindex\u001b[0m\u001b[0;34m,\u001b[0m \u001b[0mcolumns\u001b[0m \u001b[0;34m=\u001b[0m \u001b[0mX\u001b[0m\u001b[0;34m.\u001b[0m\u001b[0mindex\u001b[0m\u001b[0;34m,\u001b[0m \u001b[0mX\u001b[0m\u001b[0;34m.\u001b[0m\u001b[0mcolumns\u001b[0m\u001b[0;34m\u001b[0m\u001b[0;34m\u001b[0m\u001b[0m\n",
            "\u001b[0;32m/usr/local/lib/python3.7/dist-packages/pandas/core/frame.py\u001b[0m in \u001b[0;36m__setitem__\u001b[0;34m(self, key, value)\u001b[0m\n\u001b[1;32m   3598\u001b[0m             \u001b[0mself\u001b[0m\u001b[0;34m.\u001b[0m\u001b[0m_setitem_frame\u001b[0m\u001b[0;34m(\u001b[0m\u001b[0mkey\u001b[0m\u001b[0;34m,\u001b[0m \u001b[0mvalue\u001b[0m\u001b[0;34m)\u001b[0m\u001b[0;34m\u001b[0m\u001b[0;34m\u001b[0m\u001b[0m\n\u001b[1;32m   3599\u001b[0m         \u001b[0;32melif\u001b[0m \u001b[0misinstance\u001b[0m\u001b[0;34m(\u001b[0m\u001b[0mkey\u001b[0m\u001b[0;34m,\u001b[0m \u001b[0;34m(\u001b[0m\u001b[0mSeries\u001b[0m\u001b[0;34m,\u001b[0m \u001b[0mnp\u001b[0m\u001b[0;34m.\u001b[0m\u001b[0mndarray\u001b[0m\u001b[0;34m,\u001b[0m \u001b[0mlist\u001b[0m\u001b[0;34m,\u001b[0m \u001b[0mIndex\u001b[0m\u001b[0;34m)\u001b[0m\u001b[0;34m)\u001b[0m\u001b[0;34m:\u001b[0m\u001b[0;34m\u001b[0m\u001b[0;34m\u001b[0m\u001b[0m\n\u001b[0;32m-> 3600\u001b[0;31m             \u001b[0mself\u001b[0m\u001b[0;34m.\u001b[0m\u001b[0m_setitem_array\u001b[0m\u001b[0;34m(\u001b[0m\u001b[0mkey\u001b[0m\u001b[0;34m,\u001b[0m \u001b[0mvalue\u001b[0m\u001b[0;34m)\u001b[0m\u001b[0;34m\u001b[0m\u001b[0;34m\u001b[0m\u001b[0m\n\u001b[0m\u001b[1;32m   3601\u001b[0m         \u001b[0;32melif\u001b[0m \u001b[0misinstance\u001b[0m\u001b[0;34m(\u001b[0m\u001b[0mvalue\u001b[0m\u001b[0;34m,\u001b[0m \u001b[0mDataFrame\u001b[0m\u001b[0;34m)\u001b[0m\u001b[0;34m:\u001b[0m\u001b[0;34m\u001b[0m\u001b[0;34m\u001b[0m\u001b[0m\n\u001b[1;32m   3602\u001b[0m             \u001b[0mself\u001b[0m\u001b[0;34m.\u001b[0m\u001b[0m_set_item_frame_value\u001b[0m\u001b[0;34m(\u001b[0m\u001b[0mkey\u001b[0m\u001b[0;34m,\u001b[0m \u001b[0mvalue\u001b[0m\u001b[0;34m)\u001b[0m\u001b[0;34m\u001b[0m\u001b[0;34m\u001b[0m\u001b[0m\n",
            "\u001b[0;32m/usr/local/lib/python3.7/dist-packages/pandas/core/frame.py\u001b[0m in \u001b[0;36m_setitem_array\u001b[0;34m(self, key, value)\u001b[0m\n\u001b[1;32m   3643\u001b[0m             \u001b[0;32melif\u001b[0m \u001b[0;32mnot\u001b[0m \u001b[0mis_list_like\u001b[0m\u001b[0;34m(\u001b[0m\u001b[0mvalue\u001b[0m\u001b[0;34m)\u001b[0m\u001b[0;34m:\u001b[0m\u001b[0;34m\u001b[0m\u001b[0;34m\u001b[0m\u001b[0m\n\u001b[1;32m   3644\u001b[0m                 \u001b[0;32mfor\u001b[0m \u001b[0mcol\u001b[0m \u001b[0;32min\u001b[0m \u001b[0mkey\u001b[0m\u001b[0;34m:\u001b[0m\u001b[0;34m\u001b[0m\u001b[0;34m\u001b[0m\u001b[0m\n\u001b[0;32m-> 3645\u001b[0;31m                     \u001b[0mself\u001b[0m\u001b[0;34m[\u001b[0m\u001b[0mcol\u001b[0m\u001b[0;34m]\u001b[0m \u001b[0;34m=\u001b[0m \u001b[0mvalue\u001b[0m\u001b[0;34m\u001b[0m\u001b[0;34m\u001b[0m\u001b[0m\n\u001b[0m\u001b[1;32m   3646\u001b[0m \u001b[0;34m\u001b[0m\u001b[0m\n\u001b[1;32m   3647\u001b[0m             \u001b[0;32melif\u001b[0m \u001b[0misinstance\u001b[0m\u001b[0;34m(\u001b[0m\u001b[0mvalue\u001b[0m\u001b[0;34m,\u001b[0m \u001b[0mnp\u001b[0m\u001b[0;34m.\u001b[0m\u001b[0mndarray\u001b[0m\u001b[0;34m)\u001b[0m \u001b[0;32mand\u001b[0m \u001b[0mvalue\u001b[0m\u001b[0;34m.\u001b[0m\u001b[0mndim\u001b[0m \u001b[0;34m==\u001b[0m \u001b[0;36m2\u001b[0m\u001b[0;34m:\u001b[0m\u001b[0;34m\u001b[0m\u001b[0;34m\u001b[0m\u001b[0m\n",
            "\u001b[0;32m/usr/local/lib/python3.7/dist-packages/pandas/core/frame.py\u001b[0m in \u001b[0;36m__setitem__\u001b[0;34m(self, key, value)\u001b[0m\n\u001b[1;32m   3589\u001b[0m \u001b[0;34m\u001b[0m\u001b[0m\n\u001b[1;32m   3590\u001b[0m         \u001b[0;31m# see if we can slice the rows\u001b[0m\u001b[0;34m\u001b[0m\u001b[0;34m\u001b[0m\u001b[0;34m\u001b[0m\u001b[0m\n\u001b[0;32m-> 3591\u001b[0;31m         \u001b[0mindexer\u001b[0m \u001b[0;34m=\u001b[0m \u001b[0mconvert_to_index_sliceable\u001b[0m\u001b[0;34m(\u001b[0m\u001b[0mself\u001b[0m\u001b[0;34m,\u001b[0m \u001b[0mkey\u001b[0m\u001b[0;34m)\u001b[0m\u001b[0;34m\u001b[0m\u001b[0;34m\u001b[0m\u001b[0m\n\u001b[0m\u001b[1;32m   3592\u001b[0m         \u001b[0;32mif\u001b[0m \u001b[0mindexer\u001b[0m \u001b[0;32mis\u001b[0m \u001b[0;32mnot\u001b[0m \u001b[0;32mNone\u001b[0m\u001b[0;34m:\u001b[0m\u001b[0;34m\u001b[0m\u001b[0;34m\u001b[0m\u001b[0m\n\u001b[1;32m   3593\u001b[0m             \u001b[0;31m# either we have a slice or we have a string that can be converted\u001b[0m\u001b[0;34m\u001b[0m\u001b[0;34m\u001b[0m\u001b[0;34m\u001b[0m\u001b[0m\n",
            "\u001b[0;32m/usr/local/lib/python3.7/dist-packages/pandas/core/indexing.py\u001b[0m in \u001b[0;36mconvert_to_index_sliceable\u001b[0;34m(obj, key)\u001b[0m\n\u001b[1;32m   2332\u001b[0m \u001b[0;34m\u001b[0m\u001b[0m\n\u001b[1;32m   2333\u001b[0m         \u001b[0;31m# we are an actual column\u001b[0m\u001b[0;34m\u001b[0m\u001b[0;34m\u001b[0m\u001b[0;34m\u001b[0m\u001b[0m\n\u001b[0;32m-> 2334\u001b[0;31m         \u001b[0;32mif\u001b[0m \u001b[0mkey\u001b[0m \u001b[0;32min\u001b[0m \u001b[0mobj\u001b[0m\u001b[0;34m.\u001b[0m\u001b[0mcolumns\u001b[0m\u001b[0;34m:\u001b[0m\u001b[0;34m\u001b[0m\u001b[0;34m\u001b[0m\u001b[0m\n\u001b[0m\u001b[1;32m   2335\u001b[0m             \u001b[0;32mreturn\u001b[0m \u001b[0;32mNone\u001b[0m\u001b[0;34m\u001b[0m\u001b[0;34m\u001b[0m\u001b[0m\n\u001b[1;32m   2336\u001b[0m \u001b[0;34m\u001b[0m\u001b[0m\n",
            "\u001b[0;32m/usr/local/lib/python3.7/dist-packages/pandas/core/indexes/base.py\u001b[0m in \u001b[0;36m__contains__\u001b[0;34m(self, key)\u001b[0m\n\u001b[1;32m   4572\u001b[0m         \u001b[0mhash\u001b[0m\u001b[0;34m(\u001b[0m\u001b[0mkey\u001b[0m\u001b[0;34m)\u001b[0m\u001b[0;34m\u001b[0m\u001b[0;34m\u001b[0m\u001b[0m\n\u001b[1;32m   4573\u001b[0m         \u001b[0;32mtry\u001b[0m\u001b[0;34m:\u001b[0m\u001b[0;34m\u001b[0m\u001b[0;34m\u001b[0m\u001b[0m\n\u001b[0;32m-> 4574\u001b[0;31m             \u001b[0;32mreturn\u001b[0m \u001b[0mkey\u001b[0m \u001b[0;32min\u001b[0m \u001b[0mself\u001b[0m\u001b[0;34m.\u001b[0m\u001b[0m_engine\u001b[0m\u001b[0;34m\u001b[0m\u001b[0;34m\u001b[0m\u001b[0m\n\u001b[0m\u001b[1;32m   4575\u001b[0m         \u001b[0;32mexcept\u001b[0m \u001b[0;34m(\u001b[0m\u001b[0mOverflowError\u001b[0m\u001b[0;34m,\u001b[0m \u001b[0mTypeError\u001b[0m\u001b[0;34m,\u001b[0m \u001b[0mValueError\u001b[0m\u001b[0;34m)\u001b[0m\u001b[0;34m:\u001b[0m\u001b[0;34m\u001b[0m\u001b[0;34m\u001b[0m\u001b[0m\n\u001b[1;32m   4576\u001b[0m             \u001b[0;32mreturn\u001b[0m \u001b[0;32mFalse\u001b[0m\u001b[0;34m\u001b[0m\u001b[0;34m\u001b[0m\u001b[0m\n",
            "\u001b[0;31mKeyboardInterrupt\u001b[0m: "
          ]
        }
      ]
    },
    {
      "cell_type": "code",
      "source": [
        ""
      ],
      "metadata": {
        "id": "iDY5iUt7pdf7"
      },
      "execution_count": null,
      "outputs": []
    },
    {
      "cell_type": "code",
      "execution_count": 42,
      "metadata": {
        "colab": {
          "base_uri": "https://localhost:8080/"
        },
        "id": "ShVYgZRb-a0Y",
        "outputId": "5274e8c0-6898-405d-8994-c4645be15e37"
      },
      "outputs": [
        {
          "output_type": "stream",
          "name": "stdout",
          "text": [
            "predict time: 0:00:43.516979\n",
            "feature_given_class_count: 0\n"
          ]
        }
      ],
      "source": [
        "predict_start = datetime.datetime.now()\n",
        "\n",
        "pred_dataset = dataset[slice_point:]\n",
        "preds = []\n",
        "\n",
        "for item in pred_dataset:\n",
        "    transformed = transformers[0].transform_one(item['features'])\n",
        "    item_preds = {}\n",
        "    for estimator in estimators:\n",
        "        pred = estimators[estimator].predict_proba_one(transformed)\n",
        "        if pred[True] > 0.1:\n",
        "            item_preds[estimator] = pred[True]\n",
        "    # item_output = {\n",
        "    #     'text': item['features']['compounded_core_lemma_text'],\n",
        "    #     'preds': item_preds\n",
        "    # }\n",
        "    preds.append(item_preds)\n",
        "\n",
        "predict_end = datetime.datetime.now()\n",
        "print('predict time:', (predict_end - predict_start))\n",
        "#print('feature_given_class time:', feature_given_class_time)\n",
        "print('feature_given_class_count:', feature_given_class_count)\n",
        "#pprint.pprint(preds)"
      ]
    },
    {
      "cell_type": "markdown",
      "metadata": {
        "id": "7ndn2BTROakh"
      },
      "source": [
        "# Metrics"
      ]
    },
    {
      "cell_type": "code",
      "execution_count": 43,
      "metadata": {
        "id": "wLuSQfRxOchK"
      },
      "outputs": [],
      "source": [
        "# perhaps the thing to do here would be to instead find, for each strategy:\n",
        "# 1. the probability at which we get 100% precision, and what the recall at that probability is; and\n",
        "# 2. the probability at which we get 100% recall, and what the precision at that probability is\n",
        "class MLMetrics():\n",
        "\n",
        "    def __init__(self):\n",
        "        self.accuracy90 = river.metrics.Accuracy()\n",
        "        self.precision90 = river.metrics.Precision()\n",
        "        self.recall90 = river.metrics.Recall()\n",
        "        self.accuracy50 = river.metrics.Accuracy()\n",
        "        self.precision50 = river.metrics.Precision()\n",
        "        self.recall50 = river.metrics.Recall()\n",
        "        self.accuracy10 = river.metrics.Accuracy()\n",
        "        self.precision10 = river.metrics.Precision()\n",
        "        self.recall10 = river.metrics.Recall()\n",
        "        self.F1 = river.metrics.F1()\n",
        "        self.R2 = river.metrics.R2()\n",
        "\n",
        "    def update(self, y, pred):\n",
        "        eval_90 = pred > 0.9\n",
        "        eval_50 = pred > 0.5\n",
        "        eval_10 = pred > 0.1\n",
        "        self.accuracy90.update(y, eval_90)\n",
        "        self.precision90.update(y, eval_90)\n",
        "        self.recall90.update(y, eval_90)\n",
        "        self.accuracy50.update(y, eval_50)\n",
        "        self.precision50.update(y, eval_50)\n",
        "        self.recall50.update(y, eval_50)\n",
        "        self.accuracy10.update(y, eval_10)\n",
        "        self.precision10.update(y, eval_10)\n",
        "        self.recall10.update(y, eval_10)\n",
        "        self.F1.update(y, pred)\n",
        "        self.R2.update(y, pred)"
      ]
    },
    {
      "cell_type": "code",
      "execution_count": 44,
      "metadata": {
        "id": "2x8_GTONO0TT",
        "colab": {
          "base_uri": "https://localhost:8080/"
        },
        "outputId": "4b23a7bf-5ebb-418d-d19b-4aea1c614683"
      },
      "outputs": [
        {
          "output_type": "stream",
          "name": "stdout",
          "text": [
            "metrics time: 0:00:00.353191\n",
            "{'accuracy90': Accuracy: 75.42%, 'precision90': Precision: 77.19%, 'recall90': Recall: 58.69%, 'accuracy50': Accuracy: 74.05%, 'precision50': Precision: 70.32%, 'recall50': Recall: 65.85%, 'accuracy10': Accuracy: 41.90%, 'precision10': Precision: 41.90%, 'recall10': Recall: 100.00%, 'F1': F1: 30.56%, 'R2': R2: 0.140416}\n"
          ]
        }
      ],
      "source": [
        "metrics_start = datetime.datetime.now()\n",
        "\n",
        "overall_metrics = MLMetrics()\n",
        "class_metrics = {}\n",
        "for estimator in estimators:\n",
        "    class_metrics[estimator] = MLMetrics()\n",
        "\n",
        "for item, pred in zip(pred_dataset, preds):\n",
        "    for label, conf in pred.items():\n",
        "        true_label = [label, True]\n",
        "        if true_label in item['labels']['provision_type_ids']:\n",
        "            overall_metrics.update(True, conf)\n",
        "            class_metrics[label].update(True, conf)\n",
        "        else:\n",
        "            overall_metrics.update(False, conf)\n",
        "            class_metrics[label].update(False, conf)\n",
        "\n",
        "metrics_end = datetime.datetime.now()\n",
        "print('metrics time:', (metrics_end - metrics_start))\n",
        "\n",
        "print(vars(overall_metrics))"
      ]
    },
    {
      "cell_type": "code",
      "execution_count": null,
      "metadata": {
        "id": "t5Etbmu8llte"
      },
      "outputs": [],
      "source": [
        "# first_estimator = next(iter(estimators))\n",
        "# pprint.pprint(estimators[first_estimator].feature_counts)\n"
      ]
    },
    {
      "cell_type": "code",
      "execution_count": null,
      "metadata": {
        "id": "K6qtbP7imXrQ"
      },
      "outputs": [],
      "source": [
        ""
      ]
    }
  ],
  "metadata": {
    "colab": {
      "collapsed_sections": [],
      "name": "River Playground.ipynb",
      "provenance": []
    },
    "kernelspec": {
      "display_name": "Python 3",
      "name": "python3"
    },
    "language_info": {
      "name": "python"
    }
  },
  "nbformat": 4,
  "nbformat_minor": 0
}