{
  "cells": [
    {
      "cell_type": "code",
      "execution_count": null,
      "metadata": {
        "colab": {
          "base_uri": "https://localhost:8080/"
        },
        "id": "4344TN0h73v0",
        "outputId": "54b65cd2-1f9e-4248-cdb8-08c7955b1b9d"
      },
      "outputs": [
        {
          "output_type": "stream",
          "name": "stdout",
          "text": [
            "Looking in indexes: https://pypi.org/simple, https://us-python.pkg.dev/colab-wheels/public/simple/\n",
            "Requirement already satisfied: river in /usr/local/lib/python3.7/dist-packages (0.10.1)\n",
            "Requirement already satisfied: numpy>=1.20.0 in /usr/local/lib/python3.7/dist-packages (from river) (1.21.6)\n",
            "Requirement already satisfied: pandas>=1.0.1 in /usr/local/lib/python3.7/dist-packages (from river) (1.3.5)\n",
            "Requirement already satisfied: scipy>=1.4.1 in /usr/local/lib/python3.7/dist-packages (from river) (1.4.1)\n",
            "Requirement already satisfied: pytz>=2017.3 in /usr/local/lib/python3.7/dist-packages (from pandas>=1.0.1->river) (2022.1)\n",
            "Requirement already satisfied: python-dateutil>=2.7.3 in /usr/local/lib/python3.7/dist-packages (from pandas>=1.0.1->river) (2.8.2)\n",
            "Requirement already satisfied: six>=1.5 in /usr/local/lib/python3.7/dist-packages (from python-dateutil>=2.7.3->pandas>=1.0.1->river) (1.15.0)\n"
          ]
        }
      ],
      "source": [
        "!pip install river"
      ]
    },
    {
      "cell_type": "code",
      "execution_count": null,
      "metadata": {
        "id": "bIgIefFy8B_M"
      },
      "outputs": [],
      "source": [
        "import river\n",
        "import json\n",
        "import datetime"
      ]
    },
    {
      "cell_type": "code",
      "execution_count": null,
      "metadata": {
        "id": "NmTY7eqJ-5tO"
      },
      "outputs": [],
      "source": [
        "# Imports to make the notebook experience nicer\n",
        "import pprint"
      ]
    },
    {
      "cell_type": "markdown",
      "metadata": {
        "id": "HQm3Ze0z8aDU"
      },
      "source": [
        "# Read Sample Data"
      ]
    },
    {
      "cell_type": "code",
      "execution_count": null,
      "metadata": {
        "colab": {
          "base_uri": "https://localhost:8080/"
        },
        "id": "vEtWMA968VnF",
        "outputId": "d17c8675-a536-4904-e3e2-78ee64be34f4"
      },
      "outputs": [
        {
          "output_type": "stream",
          "name": "stdout",
          "text": [
            "file load: 0:00:03.330297\n"
          ]
        }
      ],
      "source": [
        "read_start = datetime.datetime.now()\n",
        "\n",
        "with open('combined_names_newest.json') as f:\n",
        "    dataset = json.load(f)\n",
        "\n",
        "# NB: this is getting all used pt_ids, also reformatting in something more like what we might use\n",
        "pts = set()\n",
        "for item in dataset:\n",
        "    item_pts = []\n",
        "    # NB: this replaces the provision_type_ids list;\n",
        "    # the file has it as a list of strings like this: \"label-true/false\"\n",
        "    # we reformat the list so it is a list of tuples: ['label', bool]\n",
        "    for label in item['labels']['provision_type_ids']:\n",
        "        l = label.rsplit('-', 1)\n",
        "        if l[1] == 'true':\n",
        "            l[1] = True\n",
        "        else:\n",
        "            l[1] = False\n",
        "        pts.add(l[0])\n",
        "        item_pts.append(l)\n",
        "        # if l[0] == 'Governing Law':\n",
        "        #     pts.add(l[0])\n",
        "        #     item_pts.append(l)\n",
        "    item['labels']['provision_type_ids'] = item_pts\n",
        "\n",
        "\n",
        "read_end = datetime.datetime.now()\n",
        "print('file load:', (read_end - read_start))"
      ]
    },
    {
      "cell_type": "markdown",
      "metadata": {
        "id": "HkUkCYpa9HH7"
      },
      "source": [
        "# Learn"
      ]
    },
    {
      "cell_type": "code",
      "execution_count": null,
      "metadata": {
        "id": "mk-qBHFU9Ixa"
      },
      "outputs": [],
      "source": [
        "# Decide how much to learn on -- we learn *up to* the slice_point\n",
        "slice_point = len(dataset) - int(len(dataset) / 4)"
      ]
    },
    {
      "cell_type": "code",
      "execution_count": null,
      "metadata": {
        "id": "36mYs_VN94_S"
      },
      "outputs": [],
      "source": [
        "# Set up transformers and estimators\n",
        "transformers = [\n",
        "    river.feature_extraction.TFIDF(on='compounded_core_lemma_text', lowercase=False, ngram_range=(2,1))\n",
        "]\n",
        "\n",
        "estimators = {}\n",
        "for pt in pts:\n",
        "    #estimators[pt] = river.naive_bayes.GaussianNB()\n",
        "    estimators[pt] = river.linear_model.LogisticRegression(optimizer=river.optim.SGD(.1))"
      ]
    },
    {
      "cell_type": "code",
      "execution_count": null,
      "metadata": {
        "colab": {
          "base_uri": "https://localhost:8080/"
        },
        "id": "9kBE9yP-M9Im",
        "outputId": "b1a56e6e-629e-424f-8b96-4603cd1c1480"
      },
      "outputs": [
        {
          "output_type": "stream",
          "name": "stdout",
          "text": [
            "70\n"
          ]
        }
      ],
      "source": [
        "print(len(estimators))"
      ]
    },
    {
      "cell_type": "code",
      "execution_count": null,
      "metadata": {
        "colab": {
          "base_uri": "https://localhost:8080/"
        },
        "id": "mDRnUyEK9161",
        "outputId": "21f3a153-2d1b-4130-cce3-58cdc2d220ab"
      },
      "outputs": [
        {
          "output_type": "stream",
          "name": "stdout",
          "text": [
            "learning: 0:07:32.559624\n"
          ]
        }
      ],
      "source": [
        "# Learn\n",
        "learn_start = datetime.datetime.now()\n",
        "\n",
        "for item in dataset[:slice_point]:\n",
        "    transformers[0] = transformers[0].learn_one(item['features'])\n",
        "    transformed = transformers[0].transform_one(item['features'])\n",
        "    for label in item['labels']['provision_type_ids']:\n",
        "        estimators[label[0]] = estimators[label[0]].learn_one(transformed, label[1])\n",
        "\n",
        "learn_end = datetime.datetime.now()\n",
        "print('learning:', (learn_end - learn_start))"
      ]
    },
    {
      "cell_type": "markdown",
      "metadata": {
        "id": "_kJjDacU-Y5f"
      },
      "source": [
        "# Predict"
      ]
    },
    {
      "cell_type": "code",
      "execution_count": null,
      "metadata": {
        "colab": {
          "base_uri": "https://localhost:8080/"
        },
        "id": "ShVYgZRb-a0Y",
        "outputId": "dd1b4995-e61e-4346-de13-7af1547dfac6"
      },
      "outputs": [
        {
          "output_type": "stream",
          "name": "stdout",
          "text": [
            "predict time: 0:00:00.095597\n"
          ]
        }
      ],
      "source": [
        "predict_start = datetime.datetime.now()\n",
        "\n",
        "pred_dataset = dataset[-300:]\n",
        "preds = []\n",
        "\n",
        "for item in pred_dataset:\n",
        "    transformed = transformers[0].transform_one(item['features'])\n",
        "    item_preds = {}\n",
        "    for estimator in estimators:\n",
        "        pred = estimators[estimator].predict_proba_one(transformed)\n",
        "        if pred[True] > 0.1:\n",
        "            item_preds[estimator] = pred[True]\n",
        "    # item_output = {\n",
        "    #     'text': item['features']['compounded_core_lemma_text'],\n",
        "    #     'preds': item_preds\n",
        "    # }\n",
        "    preds.append(item_preds)\n",
        "\n",
        "predict_end = datetime.datetime.now()\n",
        "print('predict time:', (predict_end - predict_start))\n",
        "#pprint.pprint(preds)"
      ]
    },
    {
      "cell_type": "markdown",
      "metadata": {
        "id": "7ndn2BTROakh"
      },
      "source": [
        "# Metrics"
      ]
    },
    {
      "cell_type": "code",
      "execution_count": null,
      "metadata": {
        "id": "wLuSQfRxOchK"
      },
      "outputs": [],
      "source": [
        "class MLMetrics():\n",
        "\n",
        "    def __init__(self):\n",
        "        self.accuracy90 = river.metrics.Accuracy()\n",
        "        self.precision90 = river.metrics.Precision()\n",
        "        self.recall90 = river.metrics.Recall()\n",
        "        self.accuracy50 = river.metrics.Accuracy()\n",
        "        self.precision50 = river.metrics.Precision()\n",
        "        self.recall50 = river.metrics.Recall()\n",
        "        self.accuracy10 = river.metrics.Accuracy()\n",
        "        self.precision10 = river.metrics.Precision()\n",
        "        self.recall10 = river.metrics.Recall()\n",
        "        self.F1 = river.metrics.F1()\n",
        "        self.R2 = river.metrics.R2()\n",
        "\n",
        "    def update(self, y, pred):\n",
        "        eval_90 = pred > 0.9\n",
        "        eval_50 = pred > 0.5\n",
        "        eval_10 = pred > 0.1\n",
        "        self.accuracy90.update(y, eval_90)\n",
        "        self.precision90.update(y, eval_90)\n",
        "        self.recall90.update(y, eval_90)\n",
        "        self.accuracy50.update(y, eval_50)\n",
        "        self.precision50.update(y, eval_50)\n",
        "        self.recall50.update(y, eval_50)\n",
        "        self.accuracy10.update(y, eval_10)\n",
        "        self.precision10.update(y, eval_10)\n",
        "        self.recall10.update(y, eval_10)\n",
        "        self.F1.update(y, pred)\n",
        "        self.R2.update(y, pred)"
      ]
    },
    {
      "cell_type": "code",
      "execution_count": null,
      "metadata": {
        "id": "2x8_GTONO0TT",
        "colab": {
          "base_uri": "https://localhost:8080/"
        },
        "outputId": "dd603e4e-f7ec-4b12-a900-2f25c8be6e4f"
      },
      "outputs": [
        {
          "output_type": "stream",
          "name": "stdout",
          "text": [
            "metrics time: 0:00:00.052225\n",
            "{'accuracy90': Accuracy: 52.55%, 'precision90': Precision: 100.00%, 'recall90': Recall: 3.40%, 'accuracy50': Accuracy: 70.70%, 'precision50': Precision: 96.57%, 'recall50': Recall: 41.83%, 'accuracy10': Accuracy: 49.11%, 'precision10': Precision: 49.11%, 'recall10': Recall: 100.00%, 'F1': F1: 0.00%, 'R2': R2: 0.230444}\n"
          ]
        }
      ],
      "source": [
        "metrics_start = datetime.datetime.now()\n",
        "\n",
        "overall_metrics = MLMetrics()\n",
        "class_metrics = {}\n",
        "for estimator in estimators:\n",
        "    class_metrics[estimator] = MLMetrics()\n",
        "\n",
        "for item, pred in zip(pred_dataset, preds):\n",
        "    for label, conf in pred.items():\n",
        "        true_label = [label, True]\n",
        "        if true_label in item['labels']['provision_type_ids']:\n",
        "            overall_metrics.update(True, conf)\n",
        "            class_metrics[label].update(True, conf)\n",
        "        else:\n",
        "            overall_metrics.update(False, conf)\n",
        "            class_metrics[label].update(False, conf)\n",
        "\n",
        "metrics_end = datetime.datetime.now()\n",
        "print('metrics time:', (metrics_end - metrics_start))\n",
        "\n",
        "print(vars(overall_metrics))"
      ]
    },
    {
      "cell_type": "code",
      "execution_count": null,
      "metadata": {
        "id": "t5Etbmu8llte"
      },
      "outputs": [],
      "source": [
        "  \n"
      ]
    },
    {
      "cell_type": "code",
      "execution_count": null,
      "metadata": {
        "id": "K6qtbP7imXrQ"
      },
      "outputs": [],
      "source": [
        ""
      ]
    }
  ],
  "metadata": {
    "colab": {
      "collapsed_sections": [],
      "name": "River Playground.ipynb",
      "provenance": []
    },
    "kernelspec": {
      "display_name": "Python 3",
      "name": "python3"
    },
    "language_info": {
      "name": "python"
    }
  },
  "nbformat": 4,
  "nbformat_minor": 0
}